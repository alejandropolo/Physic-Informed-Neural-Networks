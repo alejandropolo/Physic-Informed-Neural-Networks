{
 "cells": [
  {
   "cell_type": "code",
   "execution_count": 1020,
   "metadata": {},
   "outputs": [
    {
     "data": {
      "text/plain": [
       "<torch._C.Generator at 0x12cd4fcd0>"
      ]
     },
     "execution_count": 1020,
     "metadata": {},
     "output_type": "execute_result"
    }
   ],
   "source": [
    "import sys\n",
    "import importlib\n",
    "import re\n",
    "\n",
    "import torch\n",
    "import numpy as np\n",
    "import pandas as pd\n",
    "\n",
    "import plotly.graph_objects as go\n",
    "import matplotlib.pyplot as plt\n",
    "import matplotlib.animation as animation\n",
    "\n",
    "sys.path.append('../Scripts/')\n",
    "import PINN_moredim\n",
    "import data\n",
    "\n",
    "importlib.reload(PINN_moredim)\n",
    "importlib.reload(data)\n",
    "from PINN_moredim import load_data, PINN_inference, generate_data, DiffEquation, load_moredim, load_data_neumann\n",
    "from data import load_csv_data\n",
    "\n",
    "# from train import train\n",
    "\n",
    "import warnings\n",
    "warnings.filterwarnings(\"ignore\")\n",
    "\n",
    "DEVICE = torch.device(\"cuda\" if torch.cuda.is_available() else \"cpu\")\n",
    "\n",
    "torch.manual_seed(42)"
   ]
  },
  {
   "cell_type": "code",
   "execution_count": 1021,
   "metadata": {},
   "outputs": [],
   "source": [
    "import yaml\n",
    "\n",
    "# Load the YAML file\n",
    "with open('../Config/config_pde_neu.yaml', 'r') as file:\n",
    "    config = yaml.safe_load(file)\n",
    "\n",
    "# Automatically create variables from the YAML keys\n",
    "for key, value in config.items():\n",
    "    for k, v in value.items():\n",
    "        globals()[k] = v\n"
   ]
  },
  {
   "cell_type": "markdown",
   "metadata": {},
   "source": [
    "## Parameters"
   ]
  },
  {
   "cell_type": "markdown",
   "metadata": {},
   "source": [
    "## Equation and Conditions"
   ]
  },
  {
   "cell_type": "code",
   "execution_count": 1022,
   "metadata": {},
   "outputs": [],
   "source": [
    "# Keep in mind that when using neumann, you have to define the solution in the PINN_moredim.py file\n",
    "bc_type = 'diri'\n",
    "for key in initial_conditions.keys():\n",
    "    if '.' in key:\n",
    "        bc_type = 'neumann'"
   ]
  },
  {
   "cell_type": "markdown",
   "metadata": {},
   "source": [
    "## Data Load"
   ]
  },
  {
   "cell_type": "code",
   "execution_count": 1023,
   "metadata": {},
   "outputs": [],
   "source": [
    "\n",
    "\n",
    "diff_equation = DiffEquation(equation=equation, func_to_optimize=func_to_optimize, hidden_layers=[300, 100], activation='sigmoid')\n",
    "\n",
    "diff_equation.set_constants(constant_values)\n"
   ]
  },
  {
   "cell_type": "code",
   "execution_count": 1024,
   "metadata": {},
   "outputs": [
    {
     "data": {
      "application/vnd.plotly.v1+json": {
       "config": {
        "plotlyServerURL": "https://plot.ly"
       },
       "data": [
        {
         "marker": {
          "color": "red",
          "opacity": 0.2,
          "size": 2
         },
         "mode": "markers",
         "name": "Test Data",
         "type": "scatter3d",
         "x": [
          0,
          0.1111111119389534,
          0.2222222238779068,
          0.3333333432674408,
          0.4444444477558136,
          0.5555555820465088,
          0.6666666865348816,
          0.7777777910232544,
          0.8888888955116272,
          1,
          0,
          0.1111111119389534,
          0.2222222238779068,
          0.3333333432674408,
          0.4444444477558136,
          0.5555555820465088,
          0.6666666865348816,
          0.7777777910232544,
          0.8888888955116272,
          1,
          0,
          0.1111111119389534,
          0.2222222238779068,
          0.3333333432674408,
          0.4444444477558136,
          0.5555555820465088,
          0.6666666865348816,
          0.7777777910232544,
          0.8888888955116272,
          1,
          0,
          0.1111111119389534,
          0.2222222238779068,
          0.3333333432674408,
          0.4444444477558136,
          0.5555555820465088,
          0.6666666865348816,
          0.7777777910232544,
          0.8888888955116272,
          1,
          0,
          0.1111111119389534,
          0.2222222238779068,
          0.3333333432674408,
          0.4444444477558136,
          0.5555555820465088,
          0.6666666865348816,
          0.7777777910232544,
          0.8888888955116272,
          1,
          0,
          0.1111111119389534,
          0.2222222238779068,
          0.3333333432674408,
          0.4444444477558136,
          0.5555555820465088,
          0.6666666865348816,
          0.7777777910232544,
          0.8888888955116272,
          1,
          0,
          0.1111111119389534,
          0.2222222238779068,
          0.3333333432674408,
          0.4444444477558136,
          0.5555555820465088,
          0.6666666865348816,
          0.7777777910232544,
          0.8888888955116272,
          1,
          0,
          0.1111111119389534,
          0.2222222238779068,
          0.3333333432674408,
          0.4444444477558136,
          0.5555555820465088,
          0.6666666865348816,
          0.7777777910232544,
          0.8888888955116272,
          1,
          0,
          0.1111111119389534,
          0.2222222238779068,
          0.3333333432674408,
          0.4444444477558136,
          0.5555555820465088,
          0.6666666865348816,
          0.7777777910232544,
          0.8888888955116272,
          1,
          0,
          0.1111111119389534,
          0.2222222238779068,
          0.3333333432674408,
          0.4444444477558136,
          0.5555555820465088,
          0.6666666865348816,
          0.7777777910232544,
          0.8888888955116272,
          1
         ],
         "y": [
          0,
          0,
          0,
          0,
          0,
          0,
          0,
          0,
          0,
          0,
          0.1111111119389534,
          0.1111111119389534,
          0.1111111119389534,
          0.1111111119389534,
          0.1111111119389534,
          0.1111111119389534,
          0.1111111119389534,
          0.1111111119389534,
          0.1111111119389534,
          0.1111111119389534,
          0.2222222238779068,
          0.2222222238779068,
          0.2222222238779068,
          0.2222222238779068,
          0.2222222238779068,
          0.2222222238779068,
          0.2222222238779068,
          0.2222222238779068,
          0.2222222238779068,
          0.2222222238779068,
          0.3333333432674408,
          0.3333333432674408,
          0.3333333432674408,
          0.3333333432674408,
          0.3333333432674408,
          0.3333333432674408,
          0.3333333432674408,
          0.3333333432674408,
          0.3333333432674408,
          0.3333333432674408,
          0.4444444477558136,
          0.4444444477558136,
          0.4444444477558136,
          0.4444444477558136,
          0.4444444477558136,
          0.4444444477558136,
          0.4444444477558136,
          0.4444444477558136,
          0.4444444477558136,
          0.4444444477558136,
          0.5555555820465088,
          0.5555555820465088,
          0.5555555820465088,
          0.5555555820465088,
          0.5555555820465088,
          0.5555555820465088,
          0.5555555820465088,
          0.5555555820465088,
          0.5555555820465088,
          0.5555555820465088,
          0.6666666865348816,
          0.6666666865348816,
          0.6666666865348816,
          0.6666666865348816,
          0.6666666865348816,
          0.6666666865348816,
          0.6666666865348816,
          0.6666666865348816,
          0.6666666865348816,
          0.6666666865348816,
          0.7777777910232544,
          0.7777777910232544,
          0.7777777910232544,
          0.7777777910232544,
          0.7777777910232544,
          0.7777777910232544,
          0.7777777910232544,
          0.7777777910232544,
          0.7777777910232544,
          0.7777777910232544,
          0.8888888955116272,
          0.8888888955116272,
          0.8888888955116272,
          0.8888888955116272,
          0.8888888955116272,
          0.8888888955116272,
          0.8888888955116272,
          0.8888888955116272,
          0.8888888955116272,
          0.8888888955116272,
          1,
          1,
          1,
          1,
          1,
          1,
          1,
          1,
          1,
          1
         ],
         "z": [
          0,
          0.3420201539993286,
          0.6427876353263855,
          0.8660253882408142,
          0.9848077893257141,
          0.9848077297210693,
          0.8660253882408142,
          0.6427874565124512,
          0.3420200049877167,
          -8.742277657347586e-8,
          0,
          0.3060530722141266,
          0.5751916170120239,
          0.7749535441398621,
          0.8812447190284729,
          0.8812446594238281,
          0.7749535441398621,
          0.5751914978027344,
          0.30605292320251465,
          -7.822933412171551e-8,
          0,
          0.2738683223724365,
          0.5147041082382202,
          0.6934589147567749,
          0.7885724306106567,
          0.788572371006012,
          0.6934589147567749,
          0.5147039294242859,
          0.273868203163147,
          -7.000268453793979e-8,
          0,
          0.24506813287734985,
          0.46057745814323425,
          0.6205343008041382,
          0.7056455612182617,
          0.7056455612182617,
          0.6205343008041382,
          0.4605773091316223,
          0.2450680285692215,
          -6.264115626208877e-8,
          0,
          0.2192966192960739,
          0.4121428430080414,
          0.555278480052948,
          0.6314394474029541,
          0.6314393877983093,
          0.555278480052948,
          0.41214272379875183,
          0.21929651498794556,
          -5.605377140227574e-8,
          0,
          0.19623522460460663,
          0.3688015937805176,
          0.4968850314617157,
          0.5650368332862854,
          0.5650367736816406,
          0.4968850314617157,
          0.3688015043735504,
          0.19623515009880066,
          -5.015911597183731e-8,
          0,
          0.17559900879859924,
          0.33001819252967834,
          0.44463226199150085,
          0.5056172013282776,
          0.5056171417236328,
          0.44463226199150085,
          0.3300180733203888,
          0.17559893429279327,
          -4.48843522349307e-8,
          0,
          0.15713287889957428,
          0.2953132390975952,
          0.3978744149208069,
          0.4524461030960083,
          0.4524460732936859,
          0.3978744149208069,
          0.29531314969062805,
          0.1571328192949295,
          -4.0164280790122575e-8,
          0,
          0.14060868322849274,
          0.26425787806510925,
          0.35603368282318115,
          0.4048665761947632,
          0.4048665463924408,
          0.35603368282318115,
          0.2642578184604645,
          0.14060862362384796,
          -3.594057673694806e-8,
          0,
          0.12582218647003174,
          0.2364683598279953,
          0.31859293580055237,
          0.36229056119918823,
          0.36229053139686584,
          0.31859293580055237,
          0.23646830022335052,
          0.12582212686538696,
          -3.216104360603822e-8
         ]
        },
        {
         "marker": {
          "color": "blue",
          "opacity": 0.7,
          "size": 4
         },
         "mode": "markers",
         "name": "Train Data",
         "type": "scatter3d",
         "x": [
          0,
          0.1111111119389534,
          0.2222222238779068,
          0.3333333432674408,
          0.4444444477558136,
          0.5555555820465088,
          0.6666666865348816,
          0.7777777910232544,
          0.8888888955116272,
          1
         ],
         "y": [
          0,
          0,
          0,
          0,
          0,
          0,
          0,
          0,
          0,
          0
         ],
         "z": [
          0,
          0.3420201539993286,
          0.6427876353263855,
          0.8660253882408142,
          0.9848077893257141,
          0.9848077297210693,
          0.8660253882408142,
          0.6427874565124512,
          0.3420200049877167,
          -8.742277657347586e-8
         ]
        },
        {
         "colorscale": [
          [
           0,
           "rgb(247,251,255)"
          ],
          [
           0.125,
           "rgb(222,235,247)"
          ],
          [
           0.25,
           "rgb(198,219,239)"
          ],
          [
           0.375,
           "rgb(158,202,225)"
          ],
          [
           0.5,
           "rgb(107,174,214)"
          ],
          [
           0.625,
           "rgb(66,146,198)"
          ],
          [
           0.75,
           "rgb(33,113,181)"
          ],
          [
           0.875,
           "rgb(8,81,156)"
          ],
          [
           1,
           "rgb(8,48,107)"
          ]
         ],
         "name": "True Function",
         "opacity": 0.5,
         "showscale": false,
         "type": "surface",
         "x": [
          0,
          0.1111111111111111,
          0.2222222222222222,
          0.3333333333333333,
          0.4444444444444444,
          0.5555555555555556,
          0.6666666666666666,
          0.7777777777777777,
          0.8888888888888888,
          1
         ],
         "y": [
          0,
          0.1111111111111111,
          0.2222222222222222,
          0.3333333333333333,
          0.4444444444444444,
          0.5555555555555556,
          0.6666666666666666,
          0.7777777777777777,
          0.8888888888888888,
          1
         ],
         "z": [
          [
           0,
           0.3420201539993286,
           0.6427876353263855,
           0.8660253882408142,
           0.9848077893257141,
           0.9848077297210693,
           0.8660253882408142,
           0.6427874565124512,
           0.3420200049877167,
           -8.742277657347586e-8
          ],
          [
           0,
           0.3060530722141266,
           0.5751916170120239,
           0.7749535441398621,
           0.8812447190284729,
           0.8812446594238281,
           0.7749535441398621,
           0.5751914978027344,
           0.30605292320251465,
           -7.822933412171551e-8
          ],
          [
           0,
           0.2738683223724365,
           0.5147041082382202,
           0.6934589147567749,
           0.7885724306106567,
           0.788572371006012,
           0.6934589147567749,
           0.5147039294242859,
           0.273868203163147,
           -7.000268453793979e-8
          ],
          [
           0,
           0.24506813287734985,
           0.46057745814323425,
           0.6205343008041382,
           0.7056455612182617,
           0.7056455612182617,
           0.6205343008041382,
           0.4605773091316223,
           0.2450680285692215,
           -6.264115626208877e-8
          ],
          [
           0,
           0.2192966192960739,
           0.4121428430080414,
           0.555278480052948,
           0.6314394474029541,
           0.6314393877983093,
           0.555278480052948,
           0.41214272379875183,
           0.21929651498794556,
           -5.605377140227574e-8
          ],
          [
           0,
           0.19623522460460663,
           0.3688015937805176,
           0.4968850314617157,
           0.5650368332862854,
           0.5650367736816406,
           0.4968850314617157,
           0.3688015043735504,
           0.19623515009880066,
           -5.015911597183731e-8
          ],
          [
           0,
           0.17559900879859924,
           0.33001819252967834,
           0.44463226199150085,
           0.5056172013282776,
           0.5056171417236328,
           0.44463226199150085,
           0.3300180733203888,
           0.17559893429279327,
           -4.48843522349307e-8
          ],
          [
           0,
           0.15713287889957428,
           0.2953132390975952,
           0.3978744149208069,
           0.4524461030960083,
           0.4524460732936859,
           0.3978744149208069,
           0.29531314969062805,
           0.1571328192949295,
           -4.0164280790122575e-8
          ],
          [
           0,
           0.14060868322849274,
           0.26425787806510925,
           0.35603368282318115,
           0.4048665761947632,
           0.4048665463924408,
           0.35603368282318115,
           0.2642578184604645,
           0.14060862362384796,
           -3.594057673694806e-8
          ],
          [
           0,
           0.12582218647003174,
           0.2364683598279953,
           0.31859293580055237,
           0.36229056119918823,
           0.36229053139686584,
           0.31859293580055237,
           0.23646830022335052,
           0.12582212686538696,
           -3.216104360603822e-8
          ]
         ]
        }
       ],
       "layout": {
        "height": 800,
        "legend": {
         "font": {
          "size": 16
         },
         "x": -0.1,
         "y": 1
        },
        "scene": {
         "aspectmode": "cube",
         "xaxis": {
          "title": {
           "text": "x"
          }
         },
         "yaxis": {
          "title": {
           "text": "t"
          }
         },
         "zaxis": {
          "title": {
           "text": "u(t,x)"
          }
         }
        },
        "template": {
         "data": {
          "bar": [
           {
            "error_x": {
             "color": "#2a3f5f"
            },
            "error_y": {
             "color": "#2a3f5f"
            },
            "marker": {
             "line": {
              "color": "#E5ECF6",
              "width": 0.5
             },
             "pattern": {
              "fillmode": "overlay",
              "size": 10,
              "solidity": 0.2
             }
            },
            "type": "bar"
           }
          ],
          "barpolar": [
           {
            "marker": {
             "line": {
              "color": "#E5ECF6",
              "width": 0.5
             },
             "pattern": {
              "fillmode": "overlay",
              "size": 10,
              "solidity": 0.2
             }
            },
            "type": "barpolar"
           }
          ],
          "carpet": [
           {
            "aaxis": {
             "endlinecolor": "#2a3f5f",
             "gridcolor": "white",
             "linecolor": "white",
             "minorgridcolor": "white",
             "startlinecolor": "#2a3f5f"
            },
            "baxis": {
             "endlinecolor": "#2a3f5f",
             "gridcolor": "white",
             "linecolor": "white",
             "minorgridcolor": "white",
             "startlinecolor": "#2a3f5f"
            },
            "type": "carpet"
           }
          ],
          "choropleth": [
           {
            "colorbar": {
             "outlinewidth": 0,
             "ticks": ""
            },
            "type": "choropleth"
           }
          ],
          "contour": [
           {
            "colorbar": {
             "outlinewidth": 0,
             "ticks": ""
            },
            "colorscale": [
             [
              0,
              "#0d0887"
             ],
             [
              0.1111111111111111,
              "#46039f"
             ],
             [
              0.2222222222222222,
              "#7201a8"
             ],
             [
              0.3333333333333333,
              "#9c179e"
             ],
             [
              0.4444444444444444,
              "#bd3786"
             ],
             [
              0.5555555555555556,
              "#d8576b"
             ],
             [
              0.6666666666666666,
              "#ed7953"
             ],
             [
              0.7777777777777778,
              "#fb9f3a"
             ],
             [
              0.8888888888888888,
              "#fdca26"
             ],
             [
              1,
              "#f0f921"
             ]
            ],
            "type": "contour"
           }
          ],
          "contourcarpet": [
           {
            "colorbar": {
             "outlinewidth": 0,
             "ticks": ""
            },
            "type": "contourcarpet"
           }
          ],
          "heatmap": [
           {
            "colorbar": {
             "outlinewidth": 0,
             "ticks": ""
            },
            "colorscale": [
             [
              0,
              "#0d0887"
             ],
             [
              0.1111111111111111,
              "#46039f"
             ],
             [
              0.2222222222222222,
              "#7201a8"
             ],
             [
              0.3333333333333333,
              "#9c179e"
             ],
             [
              0.4444444444444444,
              "#bd3786"
             ],
             [
              0.5555555555555556,
              "#d8576b"
             ],
             [
              0.6666666666666666,
              "#ed7953"
             ],
             [
              0.7777777777777778,
              "#fb9f3a"
             ],
             [
              0.8888888888888888,
              "#fdca26"
             ],
             [
              1,
              "#f0f921"
             ]
            ],
            "type": "heatmap"
           }
          ],
          "heatmapgl": [
           {
            "colorbar": {
             "outlinewidth": 0,
             "ticks": ""
            },
            "colorscale": [
             [
              0,
              "#0d0887"
             ],
             [
              0.1111111111111111,
              "#46039f"
             ],
             [
              0.2222222222222222,
              "#7201a8"
             ],
             [
              0.3333333333333333,
              "#9c179e"
             ],
             [
              0.4444444444444444,
              "#bd3786"
             ],
             [
              0.5555555555555556,
              "#d8576b"
             ],
             [
              0.6666666666666666,
              "#ed7953"
             ],
             [
              0.7777777777777778,
              "#fb9f3a"
             ],
             [
              0.8888888888888888,
              "#fdca26"
             ],
             [
              1,
              "#f0f921"
             ]
            ],
            "type": "heatmapgl"
           }
          ],
          "histogram": [
           {
            "marker": {
             "pattern": {
              "fillmode": "overlay",
              "size": 10,
              "solidity": 0.2
             }
            },
            "type": "histogram"
           }
          ],
          "histogram2d": [
           {
            "colorbar": {
             "outlinewidth": 0,
             "ticks": ""
            },
            "colorscale": [
             [
              0,
              "#0d0887"
             ],
             [
              0.1111111111111111,
              "#46039f"
             ],
             [
              0.2222222222222222,
              "#7201a8"
             ],
             [
              0.3333333333333333,
              "#9c179e"
             ],
             [
              0.4444444444444444,
              "#bd3786"
             ],
             [
              0.5555555555555556,
              "#d8576b"
             ],
             [
              0.6666666666666666,
              "#ed7953"
             ],
             [
              0.7777777777777778,
              "#fb9f3a"
             ],
             [
              0.8888888888888888,
              "#fdca26"
             ],
             [
              1,
              "#f0f921"
             ]
            ],
            "type": "histogram2d"
           }
          ],
          "histogram2dcontour": [
           {
            "colorbar": {
             "outlinewidth": 0,
             "ticks": ""
            },
            "colorscale": [
             [
              0,
              "#0d0887"
             ],
             [
              0.1111111111111111,
              "#46039f"
             ],
             [
              0.2222222222222222,
              "#7201a8"
             ],
             [
              0.3333333333333333,
              "#9c179e"
             ],
             [
              0.4444444444444444,
              "#bd3786"
             ],
             [
              0.5555555555555556,
              "#d8576b"
             ],
             [
              0.6666666666666666,
              "#ed7953"
             ],
             [
              0.7777777777777778,
              "#fb9f3a"
             ],
             [
              0.8888888888888888,
              "#fdca26"
             ],
             [
              1,
              "#f0f921"
             ]
            ],
            "type": "histogram2dcontour"
           }
          ],
          "mesh3d": [
           {
            "colorbar": {
             "outlinewidth": 0,
             "ticks": ""
            },
            "type": "mesh3d"
           }
          ],
          "parcoords": [
           {
            "line": {
             "colorbar": {
              "outlinewidth": 0,
              "ticks": ""
             }
            },
            "type": "parcoords"
           }
          ],
          "pie": [
           {
            "automargin": true,
            "type": "pie"
           }
          ],
          "scatter": [
           {
            "fillpattern": {
             "fillmode": "overlay",
             "size": 10,
             "solidity": 0.2
            },
            "type": "scatter"
           }
          ],
          "scatter3d": [
           {
            "line": {
             "colorbar": {
              "outlinewidth": 0,
              "ticks": ""
             }
            },
            "marker": {
             "colorbar": {
              "outlinewidth": 0,
              "ticks": ""
             }
            },
            "type": "scatter3d"
           }
          ],
          "scattercarpet": [
           {
            "marker": {
             "colorbar": {
              "outlinewidth": 0,
              "ticks": ""
             }
            },
            "type": "scattercarpet"
           }
          ],
          "scattergeo": [
           {
            "marker": {
             "colorbar": {
              "outlinewidth": 0,
              "ticks": ""
             }
            },
            "type": "scattergeo"
           }
          ],
          "scattergl": [
           {
            "marker": {
             "colorbar": {
              "outlinewidth": 0,
              "ticks": ""
             }
            },
            "type": "scattergl"
           }
          ],
          "scattermapbox": [
           {
            "marker": {
             "colorbar": {
              "outlinewidth": 0,
              "ticks": ""
             }
            },
            "type": "scattermapbox"
           }
          ],
          "scatterpolar": [
           {
            "marker": {
             "colorbar": {
              "outlinewidth": 0,
              "ticks": ""
             }
            },
            "type": "scatterpolar"
           }
          ],
          "scatterpolargl": [
           {
            "marker": {
             "colorbar": {
              "outlinewidth": 0,
              "ticks": ""
             }
            },
            "type": "scatterpolargl"
           }
          ],
          "scatterternary": [
           {
            "marker": {
             "colorbar": {
              "outlinewidth": 0,
              "ticks": ""
             }
            },
            "type": "scatterternary"
           }
          ],
          "surface": [
           {
            "colorbar": {
             "outlinewidth": 0,
             "ticks": ""
            },
            "colorscale": [
             [
              0,
              "#0d0887"
             ],
             [
              0.1111111111111111,
              "#46039f"
             ],
             [
              0.2222222222222222,
              "#7201a8"
             ],
             [
              0.3333333333333333,
              "#9c179e"
             ],
             [
              0.4444444444444444,
              "#bd3786"
             ],
             [
              0.5555555555555556,
              "#d8576b"
             ],
             [
              0.6666666666666666,
              "#ed7953"
             ],
             [
              0.7777777777777778,
              "#fb9f3a"
             ],
             [
              0.8888888888888888,
              "#fdca26"
             ],
             [
              1,
              "#f0f921"
             ]
            ],
            "type": "surface"
           }
          ],
          "table": [
           {
            "cells": {
             "fill": {
              "color": "#EBF0F8"
             },
             "line": {
              "color": "white"
             }
            },
            "header": {
             "fill": {
              "color": "#C8D4E3"
             },
             "line": {
              "color": "white"
             }
            },
            "type": "table"
           }
          ]
         },
         "layout": {
          "annotationdefaults": {
           "arrowcolor": "#2a3f5f",
           "arrowhead": 0,
           "arrowwidth": 1
          },
          "autotypenumbers": "strict",
          "coloraxis": {
           "colorbar": {
            "outlinewidth": 0,
            "ticks": ""
           }
          },
          "colorscale": {
           "diverging": [
            [
             0,
             "#8e0152"
            ],
            [
             0.1,
             "#c51b7d"
            ],
            [
             0.2,
             "#de77ae"
            ],
            [
             0.3,
             "#f1b6da"
            ],
            [
             0.4,
             "#fde0ef"
            ],
            [
             0.5,
             "#f7f7f7"
            ],
            [
             0.6,
             "#e6f5d0"
            ],
            [
             0.7,
             "#b8e186"
            ],
            [
             0.8,
             "#7fbc41"
            ],
            [
             0.9,
             "#4d9221"
            ],
            [
             1,
             "#276419"
            ]
           ],
           "sequential": [
            [
             0,
             "#0d0887"
            ],
            [
             0.1111111111111111,
             "#46039f"
            ],
            [
             0.2222222222222222,
             "#7201a8"
            ],
            [
             0.3333333333333333,
             "#9c179e"
            ],
            [
             0.4444444444444444,
             "#bd3786"
            ],
            [
             0.5555555555555556,
             "#d8576b"
            ],
            [
             0.6666666666666666,
             "#ed7953"
            ],
            [
             0.7777777777777778,
             "#fb9f3a"
            ],
            [
             0.8888888888888888,
             "#fdca26"
            ],
            [
             1,
             "#f0f921"
            ]
           ],
           "sequentialminus": [
            [
             0,
             "#0d0887"
            ],
            [
             0.1111111111111111,
             "#46039f"
            ],
            [
             0.2222222222222222,
             "#7201a8"
            ],
            [
             0.3333333333333333,
             "#9c179e"
            ],
            [
             0.4444444444444444,
             "#bd3786"
            ],
            [
             0.5555555555555556,
             "#d8576b"
            ],
            [
             0.6666666666666666,
             "#ed7953"
            ],
            [
             0.7777777777777778,
             "#fb9f3a"
            ],
            [
             0.8888888888888888,
             "#fdca26"
            ],
            [
             1,
             "#f0f921"
            ]
           ]
          },
          "colorway": [
           "#636efa",
           "#EF553B",
           "#00cc96",
           "#ab63fa",
           "#FFA15A",
           "#19d3f3",
           "#FF6692",
           "#B6E880",
           "#FF97FF",
           "#FECB52"
          ],
          "font": {
           "color": "#2a3f5f"
          },
          "geo": {
           "bgcolor": "white",
           "lakecolor": "white",
           "landcolor": "#E5ECF6",
           "showlakes": true,
           "showland": true,
           "subunitcolor": "white"
          },
          "hoverlabel": {
           "align": "left"
          },
          "hovermode": "closest",
          "mapbox": {
           "style": "light"
          },
          "paper_bgcolor": "white",
          "plot_bgcolor": "#E5ECF6",
          "polar": {
           "angularaxis": {
            "gridcolor": "white",
            "linecolor": "white",
            "ticks": ""
           },
           "bgcolor": "#E5ECF6",
           "radialaxis": {
            "gridcolor": "white",
            "linecolor": "white",
            "ticks": ""
           }
          },
          "scene": {
           "xaxis": {
            "backgroundcolor": "#E5ECF6",
            "gridcolor": "white",
            "gridwidth": 2,
            "linecolor": "white",
            "showbackground": true,
            "ticks": "",
            "zerolinecolor": "white"
           },
           "yaxis": {
            "backgroundcolor": "#E5ECF6",
            "gridcolor": "white",
            "gridwidth": 2,
            "linecolor": "white",
            "showbackground": true,
            "ticks": "",
            "zerolinecolor": "white"
           },
           "zaxis": {
            "backgroundcolor": "#E5ECF6",
            "gridcolor": "white",
            "gridwidth": 2,
            "linecolor": "white",
            "showbackground": true,
            "ticks": "",
            "zerolinecolor": "white"
           }
          },
          "shapedefaults": {
           "line": {
            "color": "#2a3f5f"
           }
          },
          "ternary": {
           "aaxis": {
            "gridcolor": "white",
            "linecolor": "white",
            "ticks": ""
           },
           "baxis": {
            "gridcolor": "white",
            "linecolor": "white",
            "ticks": ""
           },
           "bgcolor": "#E5ECF6",
           "caxis": {
            "gridcolor": "white",
            "linecolor": "white",
            "ticks": ""
           }
          },
          "title": {
           "x": 0.05
          },
          "xaxis": {
           "automargin": true,
           "gridcolor": "white",
           "linecolor": "white",
           "ticks": "",
           "title": {
            "standoff": 15
           },
           "zerolinecolor": "white",
           "zerolinewidth": 2
          },
          "yaxis": {
           "automargin": true,
           "gridcolor": "white",
           "linecolor": "white",
           "ticks": "",
           "title": {
            "standoff": 15
           },
           "zerolinecolor": "white",
           "zerolinewidth": 2
          }
         }
        },
        "width": 1000
       }
      }
     },
     "metadata": {},
     "output_type": "display_data"
    }
   ],
   "source": [
    "if data_from_csv:\n",
    "    data = load_csv_data(diff_equation, data_from_csv, params_to_optimize=params_to_optimize)\n",
    "else:\n",
    "    if diff_equation.dx: # If PDE\n",
    "\n",
    "        if diff_equation.dy: # 2D\n",
    "            data = load_moredim(diff_equation, f, params_to_optimize=params_to_optimize, L=L, T=T, plate_length=plate_length, max_iter_time=max_iter_time)\n",
    "\n",
    "        elif bc_type == 'neumann': # Neumann BC\n",
    "            data = load_data_neumann(diff_equation, f, params_to_optimize, L_min, L, T, N_train)\n",
    "\n",
    "        else: # Dirichlet BC\n",
    "            data = load_data_neumann(diff_equation, f, params_to_optimize, L_min, L, T, N_train)\n",
    "            # data = generate_data(diff_equation, params_to_optimize=params_to_optimize, L_min=L_min, L=L, T=T, N_train=N_train, N_test=N_test, initial_conditions=initial_conditions)\n",
    "    \n",
    "    else: # If ODE\n",
    "        data = load_data(diff_equation, params_to_optimize=params_to_optimize, initial_conditions=initial_conditions, t_0=t_0, t_fin=t_fin, n_points=n_points, noise=noise)\n"
   ]
  },
  {
   "cell_type": "markdown",
   "metadata": {},
   "source": [
    "## Training"
   ]
  },
  {
   "cell_type": "code",
   "execution_count": 1025,
   "metadata": {},
   "outputs": [],
   "source": [
    "\n",
    "torch.manual_seed(42)\n",
    "# Inicializar los modelos y el optimizador\n",
    "pinn_inf_model = PINN_inference(params=params_to_optimize, input_size=data[2].shape[1], hidden_layers=layers, activation=activations, bc_type=bc_type, data_from_csv=data_from_csv).to(DEVICE)\n"
   ]
  },
  {
   "cell_type": "code",
   "execution_count": 1026,
   "metadata": {},
   "outputs": [
    {
     "name": "stdout",
     "output_type": "stream",
     "text": [
      "Using LBFGS\n",
      "Epoch: 0, Loss: 19.957386016845703, MSE Loss: 0.4003589153289795, Physics Loss: 10.407901763916016, Validation Loss: 1.880222201347351 Boundary Loss:8.741683006286621\n",
      "Epoch: 50, Loss: 0.003998622298240662, MSE Loss: 0.00020451164164114743, Physics Loss: 0.003341016126796603, Validation Loss: 7.291126530617476e-05 Boundary Loss:0.00024879034026525915\n",
      "Epoch: 100, Loss: 0.0007142422255128622, MSE Loss: 2.5291083147749305e-06, Physics Loss: 0.0005800203653052449, Validation Loss: 1.7878925063996576e-05 Boundary Loss:0.00012878511915914714\n",
      "Epoch: 150, Loss: 0.0003644066455308348, MSE Loss: 6.4112668951565865e-06, Physics Loss: 0.00030227701063267887, Validation Loss: 3.2032060062192613e-06 Boundary Loss:4.930189606966451e-05\n",
      "Epoch: 200, Loss: 0.0003240731020923704, MSE Loss: 3.4119013889721828e-06, Physics Loss: 0.00028324199956841767, Validation Loss: 3.7687232179450803e-06 Boundary Loss:3.398519766051322e-05\n",
      "Epoch: 250, Loss: 0.0002601594605948776, MSE Loss: 7.60429884394398e-07, Physics Loss: 0.0002389344881521538, Validation Loss: 2.3059310478856787e-06 Boundary Loss:1.970411540241912e-05\n",
      "Epoch: 300, Loss: 0.0002585230104159564, MSE Loss: 1.0113335520145483e-06, Physics Loss: 0.00023737983428873122, Validation Loss: 2.0273075733712176e-06 Boundary Loss:1.9120519937132485e-05\n",
      "Epoch: 350, Loss: 0.00025850010570138693, MSE Loss: 1.0266473964293255e-06, Physics Loss: 0.00023731691180728376, Validation Loss: 2.011379365285393e-06 Boundary Loss:1.9129885913571343e-05\n",
      "Epoch: 400, Loss: 0.0002584810135886073, MSE Loss: 1.0298086863258504e-06, Physics Loss: 0.0002372749731875956, Validation Loss: 1.99077112483792e-06 Boundary Loss:1.9146422346238978e-05\n",
      "Epoch: 450, Loss: 0.0002584662288427353, MSE Loss: 1.0188693977397634e-06, Physics Loss: 0.00023724065977148712, Validation Loss: 2.0828797460126225e-06 Boundary Loss:1.918782072607428e-05\n"
     ]
    },
    {
     "data": {
      "application/vnd.plotly.v1+json": {
       "config": {
        "plotlyServerURL": "https://plot.ly"
       },
       "data": [
        {
         "marker": {
          "color": "blue",
          "opacity": 0.5,
          "size": 4
         },
         "mode": "markers",
         "name": "test Data",
         "type": "scatter3d",
         "x": [
          0,
          0.1111111119389534,
          0.2222222238779068,
          0.3333333432674408,
          0.4444444477558136,
          0.5555555820465088,
          0.6666666865348816,
          0.7777777910232544,
          0.8888888955116272,
          1,
          0,
          0.1111111119389534,
          0.2222222238779068,
          0.3333333432674408,
          0.4444444477558136,
          0.5555555820465088,
          0.6666666865348816,
          0.7777777910232544,
          0.8888888955116272,
          1,
          0,
          0.1111111119389534,
          0.2222222238779068,
          0.3333333432674408,
          0.4444444477558136,
          0.5555555820465088,
          0.6666666865348816,
          0.7777777910232544,
          0.8888888955116272,
          1,
          0,
          0.1111111119389534,
          0.2222222238779068,
          0.3333333432674408,
          0.4444444477558136,
          0.5555555820465088,
          0.6666666865348816,
          0.7777777910232544,
          0.8888888955116272,
          1,
          0,
          0.1111111119389534,
          0.2222222238779068,
          0.3333333432674408,
          0.4444444477558136,
          0.5555555820465088,
          0.6666666865348816,
          0.7777777910232544,
          0.8888888955116272,
          1,
          0,
          0.1111111119389534,
          0.2222222238779068,
          0.3333333432674408,
          0.4444444477558136,
          0.5555555820465088,
          0.6666666865348816,
          0.7777777910232544,
          0.8888888955116272,
          1,
          0,
          0.1111111119389534,
          0.2222222238779068,
          0.3333333432674408,
          0.4444444477558136,
          0.5555555820465088,
          0.6666666865348816,
          0.7777777910232544,
          0.8888888955116272,
          1,
          0,
          0.1111111119389534,
          0.2222222238779068,
          0.3333333432674408,
          0.4444444477558136,
          0.5555555820465088,
          0.6666666865348816,
          0.7777777910232544,
          0.8888888955116272,
          1,
          0,
          0.1111111119389534,
          0.2222222238779068,
          0.3333333432674408,
          0.4444444477558136,
          0.5555555820465088,
          0.6666666865348816,
          0.7777777910232544,
          0.8888888955116272,
          1,
          0,
          0.1111111119389534,
          0.2222222238779068,
          0.3333333432674408,
          0.4444444477558136,
          0.5555555820465088,
          0.6666666865348816,
          0.7777777910232544,
          0.8888888955116272,
          1
         ],
         "y": [
          0,
          0,
          0,
          0,
          0,
          0,
          0,
          0,
          0,
          0,
          0.1111111119389534,
          0.1111111119389534,
          0.1111111119389534,
          0.1111111119389534,
          0.1111111119389534,
          0.1111111119389534,
          0.1111111119389534,
          0.1111111119389534,
          0.1111111119389534,
          0.1111111119389534,
          0.2222222238779068,
          0.2222222238779068,
          0.2222222238779068,
          0.2222222238779068,
          0.2222222238779068,
          0.2222222238779068,
          0.2222222238779068,
          0.2222222238779068,
          0.2222222238779068,
          0.2222222238779068,
          0.3333333432674408,
          0.3333333432674408,
          0.3333333432674408,
          0.3333333432674408,
          0.3333333432674408,
          0.3333333432674408,
          0.3333333432674408,
          0.3333333432674408,
          0.3333333432674408,
          0.3333333432674408,
          0.4444444477558136,
          0.4444444477558136,
          0.4444444477558136,
          0.4444444477558136,
          0.4444444477558136,
          0.4444444477558136,
          0.4444444477558136,
          0.4444444477558136,
          0.4444444477558136,
          0.4444444477558136,
          0.5555555820465088,
          0.5555555820465088,
          0.5555555820465088,
          0.5555555820465088,
          0.5555555820465088,
          0.5555555820465088,
          0.5555555820465088,
          0.5555555820465088,
          0.5555555820465088,
          0.5555555820465088,
          0.6666666865348816,
          0.6666666865348816,
          0.6666666865348816,
          0.6666666865348816,
          0.6666666865348816,
          0.6666666865348816,
          0.6666666865348816,
          0.6666666865348816,
          0.6666666865348816,
          0.6666666865348816,
          0.7777777910232544,
          0.7777777910232544,
          0.7777777910232544,
          0.7777777910232544,
          0.7777777910232544,
          0.7777777910232544,
          0.7777777910232544,
          0.7777777910232544,
          0.7777777910232544,
          0.7777777910232544,
          0.8888888955116272,
          0.8888888955116272,
          0.8888888955116272,
          0.8888888955116272,
          0.8888888955116272,
          0.8888888955116272,
          0.8888888955116272,
          0.8888888955116272,
          0.8888888955116272,
          0.8888888955116272,
          1,
          1,
          1,
          1,
          1,
          1,
          1,
          1,
          1,
          1
         ],
         "z": [
          0,
          0.3420201539993286,
          0.6427876353263855,
          0.8660253882408142,
          0.9848077893257141,
          0.9848077297210693,
          0.8660253882408142,
          0.6427874565124512,
          0.3420200049877167,
          -8.742277657347586e-8,
          0,
          0.3060530722141266,
          0.5751916170120239,
          0.7749535441398621,
          0.8812447190284729,
          0.8812446594238281,
          0.7749535441398621,
          0.5751914978027344,
          0.30605292320251465,
          -7.822933412171551e-8,
          0,
          0.2738683223724365,
          0.5147041082382202,
          0.6934589147567749,
          0.7885724306106567,
          0.788572371006012,
          0.6934589147567749,
          0.5147039294242859,
          0.273868203163147,
          -7.000268453793979e-8,
          0,
          0.24506813287734985,
          0.46057745814323425,
          0.6205343008041382,
          0.7056455612182617,
          0.7056455612182617,
          0.6205343008041382,
          0.4605773091316223,
          0.2450680285692215,
          -6.264115626208877e-8,
          0,
          0.2192966192960739,
          0.4121428430080414,
          0.555278480052948,
          0.6314394474029541,
          0.6314393877983093,
          0.555278480052948,
          0.41214272379875183,
          0.21929651498794556,
          -5.605377140227574e-8,
          0,
          0.19623522460460663,
          0.3688015937805176,
          0.4968850314617157,
          0.5650368332862854,
          0.5650367736816406,
          0.4968850314617157,
          0.3688015043735504,
          0.19623515009880066,
          -5.015911597183731e-8,
          0,
          0.17559900879859924,
          0.33001819252967834,
          0.44463226199150085,
          0.5056172013282776,
          0.5056171417236328,
          0.44463226199150085,
          0.3300180733203888,
          0.17559893429279327,
          -4.48843522349307e-8,
          0,
          0.15713287889957428,
          0.2953132390975952,
          0.3978744149208069,
          0.4524461030960083,
          0.4524460732936859,
          0.3978744149208069,
          0.29531314969062805,
          0.1571328192949295,
          -4.0164280790122575e-8,
          0,
          0.14060868322849274,
          0.26425787806510925,
          0.35603368282318115,
          0.4048665761947632,
          0.4048665463924408,
          0.35603368282318115,
          0.2642578184604645,
          0.14060862362384796,
          -3.594057673694806e-8,
          0,
          0.12582218647003174,
          0.2364683598279953,
          0.31859293580055237,
          0.36229056119918823,
          0.36229053139686584,
          0.31859293580055237,
          0.23646830022335052,
          0.12582212686538696,
          -3.216104360603822e-8
         ]
        },
        {
         "marker": {
          "color": "red",
          "opacity": 0.35,
          "size": 2
         },
         "mode": "markers",
         "name": "Test Data",
         "type": "scatter3d",
         "x": [
          0,
          0.1111111119389534,
          0.2222222238779068,
          0.3333333432674408,
          0.4444444477558136,
          0.5555555820465088,
          0.6666666865348816,
          0.7777777910232544,
          0.8888888955116272,
          1,
          0,
          0.1111111119389534,
          0.2222222238779068,
          0.3333333432674408,
          0.4444444477558136,
          0.5555555820465088,
          0.6666666865348816,
          0.7777777910232544,
          0.8888888955116272,
          1,
          0,
          0.1111111119389534,
          0.2222222238779068,
          0.3333333432674408,
          0.4444444477558136,
          0.5555555820465088,
          0.6666666865348816,
          0.7777777910232544,
          0.8888888955116272,
          1,
          0,
          0.1111111119389534,
          0.2222222238779068,
          0.3333333432674408,
          0.4444444477558136,
          0.5555555820465088,
          0.6666666865348816,
          0.7777777910232544,
          0.8888888955116272,
          1,
          0,
          0.1111111119389534,
          0.2222222238779068,
          0.3333333432674408,
          0.4444444477558136,
          0.5555555820465088,
          0.6666666865348816,
          0.7777777910232544,
          0.8888888955116272,
          1,
          0,
          0.1111111119389534,
          0.2222222238779068,
          0.3333333432674408,
          0.4444444477558136,
          0.5555555820465088,
          0.6666666865348816,
          0.7777777910232544,
          0.8888888955116272,
          1,
          0,
          0.1111111119389534,
          0.2222222238779068,
          0.3333333432674408,
          0.4444444477558136,
          0.5555555820465088,
          0.6666666865348816,
          0.7777777910232544,
          0.8888888955116272,
          1,
          0,
          0.1111111119389534,
          0.2222222238779068,
          0.3333333432674408,
          0.4444444477558136,
          0.5555555820465088,
          0.6666666865348816,
          0.7777777910232544,
          0.8888888955116272,
          1,
          0,
          0.1111111119389534,
          0.2222222238779068,
          0.3333333432674408,
          0.4444444477558136,
          0.5555555820465088,
          0.6666666865348816,
          0.7777777910232544,
          0.8888888955116272,
          1,
          0,
          0.1111111119389534,
          0.2222222238779068,
          0.3333333432674408,
          0.4444444477558136,
          0.5555555820465088,
          0.6666666865348816,
          0.7777777910232544,
          0.8888888955116272,
          1
         ],
         "y": [
          0,
          0,
          0,
          0,
          0,
          0,
          0,
          0,
          0,
          0,
          0.1111111119389534,
          0.1111111119389534,
          0.1111111119389534,
          0.1111111119389534,
          0.1111111119389534,
          0.1111111119389534,
          0.1111111119389534,
          0.1111111119389534,
          0.1111111119389534,
          0.1111111119389534,
          0.2222222238779068,
          0.2222222238779068,
          0.2222222238779068,
          0.2222222238779068,
          0.2222222238779068,
          0.2222222238779068,
          0.2222222238779068,
          0.2222222238779068,
          0.2222222238779068,
          0.2222222238779068,
          0.3333333432674408,
          0.3333333432674408,
          0.3333333432674408,
          0.3333333432674408,
          0.3333333432674408,
          0.3333333432674408,
          0.3333333432674408,
          0.3333333432674408,
          0.3333333432674408,
          0.3333333432674408,
          0.4444444477558136,
          0.4444444477558136,
          0.4444444477558136,
          0.4444444477558136,
          0.4444444477558136,
          0.4444444477558136,
          0.4444444477558136,
          0.4444444477558136,
          0.4444444477558136,
          0.4444444477558136,
          0.5555555820465088,
          0.5555555820465088,
          0.5555555820465088,
          0.5555555820465088,
          0.5555555820465088,
          0.5555555820465088,
          0.5555555820465088,
          0.5555555820465088,
          0.5555555820465088,
          0.5555555820465088,
          0.6666666865348816,
          0.6666666865348816,
          0.6666666865348816,
          0.6666666865348816,
          0.6666666865348816,
          0.6666666865348816,
          0.6666666865348816,
          0.6666666865348816,
          0.6666666865348816,
          0.6666666865348816,
          0.7777777910232544,
          0.7777777910232544,
          0.7777777910232544,
          0.7777777910232544,
          0.7777777910232544,
          0.7777777910232544,
          0.7777777910232544,
          0.7777777910232544,
          0.7777777910232544,
          0.7777777910232544,
          0.8888888955116272,
          0.8888888955116272,
          0.8888888955116272,
          0.8888888955116272,
          0.8888888955116272,
          0.8888888955116272,
          0.8888888955116272,
          0.8888888955116272,
          0.8888888955116272,
          0.8888888955116272,
          1,
          1,
          1,
          1,
          1,
          1,
          1,
          1,
          1,
          1
         ],
         "z": [
          -0.000797271728515625,
          0.34073686599731445,
          0.6415219306945801,
          0.8651061058044434,
          0.9843339920043945,
          0.9848551750183105,
          0.866610050201416,
          0.6437358856201172,
          0.3431985378265381,
          0.0016093254089355469,
          -0.0006382465362548828,
          0.30548596382141113,
          0.574833869934082,
          0.7747225761413574,
          0.8809795379638672,
          0.8808884620666504,
          0.774498462677002,
          0.5744872093200684,
          0.3048686981201172,
          -0.0016813278198242188,
          -0.0017271041870117188,
          0.2724757194519043,
          0.513587474822998,
          0.6924042701721191,
          0.7874002456665039,
          0.7872347831726074,
          0.6919832229614258,
          0.5130243301391602,
          0.27176666259765625,
          -0.002651214599609375,
          -0.0026035308837890625,
          0.24280595779418945,
          0.4585137367248535,
          0.618492603302002,
          0.703549861907959,
          0.703493595123291,
          0.6183791160583496,
          0.4584383964538574,
          0.24280452728271484,
          -0.002527475357055664,
          -0.0026063919067382812,
          0.21683502197265625,
          0.40967559814453125,
          0.5527634620666504,
          0.6289420127868652,
          0.6289892196655273,
          0.5529131889343262,
          0.40993738174438477,
          0.21721744537353516,
          -0.0020456314086914062,
          -0.001729726791381836,
          0.19434881210327148,
          0.3666536808013916,
          0.4945950508117676,
          0.5628018379211426,
          0.5628809928894043,
          0.4947795867919922,
          0.3668501377105713,
          0.19449996948242188,
          -0.0015425682067871094,
          -0.00040912628173828125,
          0.17476940155029297,
          0.3287241458892822,
          0.44312334060668945,
          0.5041723251342773,
          0.5042147636413574,
          0.4431600570678711,
          0.32857656478881836,
          0.17432475090026855,
          -0.001089334487915039,
          0.0007131099700927734,
          0.15735530853271484,
          0.2950170040130615,
          0.39735960960388184,
          0.4519972801208496,
          0.45197486877441406,
          0.39719676971435547,
          0.29453611373901367,
          0.15643692016601562,
          -0.0006170272827148438,
          0.0009837150573730469,
          0.14135384559631348,
          0.2646474838256836,
          0.35628175735473633,
          0.4051802158355713,
          0.40510034561157227,
          0.3559999465942383,
          0.2641158103942871,
          0.14057064056396484,
          -0.000045299530029296875,
          -0.00012230873107910156,
          0.12611794471740723,
          0.23679542541503906,
          0.31890392303466797,
          0.3626389503479004,
          0.3625221252441406,
          0.31863903999328613,
          0.23664617538452148,
          0.12638545036315918,
          0.0006418228149414062
         ]
        },
        {
         "colorscale": [
          [
           0,
           "rgb(247,251,255)"
          ],
          [
           0.125,
           "rgb(222,235,247)"
          ],
          [
           0.25,
           "rgb(198,219,239)"
          ],
          [
           0.375,
           "rgb(158,202,225)"
          ],
          [
           0.5,
           "rgb(107,174,214)"
          ],
          [
           0.625,
           "rgb(66,146,198)"
          ],
          [
           0.75,
           "rgb(33,113,181)"
          ],
          [
           0.875,
           "rgb(8,81,156)"
          ],
          [
           1,
           "rgb(8,48,107)"
          ]
         ],
         "name": "True Function",
         "opacity": 0.5,
         "showscale": false,
         "type": "surface",
         "x": [
          0,
          0.1111111111111111,
          0.2222222222222222,
          0.3333333333333333,
          0.4444444444444444,
          0.5555555555555556,
          0.6666666666666666,
          0.7777777777777777,
          0.8888888888888888,
          1
         ],
         "y": [
          0,
          0.1111111111111111,
          0.2222222222222222,
          0.3333333333333333,
          0.4444444444444444,
          0.5555555555555556,
          0.6666666666666666,
          0.7777777777777777,
          0.8888888888888888,
          1
         ],
         "z": [
          [
           -0.000797271728515625,
           0.34073686599731445,
           0.6415219306945801,
           0.8651061058044434,
           0.9843339920043945,
           0.9848551750183105,
           0.866610050201416,
           0.6437358856201172,
           0.3431985378265381,
           0.0016093254089355469
          ],
          [
           -0.0006382465362548828,
           0.30548596382141113,
           0.574833869934082,
           0.7747225761413574,
           0.8809795379638672,
           0.8808884620666504,
           0.774498462677002,
           0.5744872093200684,
           0.3048686981201172,
           -0.0016813278198242188
          ],
          [
           -0.0017271041870117188,
           0.2724757194519043,
           0.513587474822998,
           0.6924042701721191,
           0.7874002456665039,
           0.7872347831726074,
           0.6919832229614258,
           0.5130243301391602,
           0.27176666259765625,
           -0.002651214599609375
          ],
          [
           -0.0026035308837890625,
           0.24280595779418945,
           0.4585137367248535,
           0.618492603302002,
           0.703549861907959,
           0.703493595123291,
           0.6183791160583496,
           0.4584383964538574,
           0.24280452728271484,
           -0.002527475357055664
          ],
          [
           -0.0026063919067382812,
           0.21683502197265625,
           0.40967559814453125,
           0.5527634620666504,
           0.6289420127868652,
           0.6289892196655273,
           0.5529131889343262,
           0.40993738174438477,
           0.21721744537353516,
           -0.0020456314086914062
          ],
          [
           -0.001729726791381836,
           0.19434881210327148,
           0.3666536808013916,
           0.4945950508117676,
           0.5628018379211426,
           0.5628809928894043,
           0.4947795867919922,
           0.3668501377105713,
           0.19449996948242188,
           -0.0015425682067871094
          ],
          [
           -0.00040912628173828125,
           0.17476940155029297,
           0.3287241458892822,
           0.44312334060668945,
           0.5041723251342773,
           0.5042147636413574,
           0.4431600570678711,
           0.32857656478881836,
           0.17432475090026855,
           -0.001089334487915039
          ],
          [
           0.0007131099700927734,
           0.15735530853271484,
           0.2950170040130615,
           0.39735960960388184,
           0.4519972801208496,
           0.45197486877441406,
           0.39719676971435547,
           0.29453611373901367,
           0.15643692016601562,
           -0.0006170272827148438
          ],
          [
           0.0009837150573730469,
           0.14135384559631348,
           0.2646474838256836,
           0.35628175735473633,
           0.4051802158355713,
           0.40510034561157227,
           0.3559999465942383,
           0.2641158103942871,
           0.14057064056396484,
           -0.000045299530029296875
          ],
          [
           -0.00012230873107910156,
           0.12611794471740723,
           0.23679542541503906,
           0.31890392303466797,
           0.3626389503479004,
           0.3625221252441406,
           0.31863903999328613,
           0.23664617538452148,
           0.12638545036315918,
           0.0006418228149414062
          ]
         ]
        },
        {
         "colorscale": [
          [
           0,
           "rgb(247,251,255)"
          ],
          [
           0.125,
           "rgb(222,235,247)"
          ],
          [
           0.25,
           "rgb(198,219,239)"
          ],
          [
           0.375,
           "rgb(158,202,225)"
          ],
          [
           0.5,
           "rgb(107,174,214)"
          ],
          [
           0.625,
           "rgb(66,146,198)"
          ],
          [
           0.75,
           "rgb(33,113,181)"
          ],
          [
           0.875,
           "rgb(8,81,156)"
          ],
          [
           1,
           "rgb(8,48,107)"
          ]
         ],
         "name": "True Function",
         "opacity": 0.5,
         "showscale": false,
         "type": "surface",
         "x": [
          0,
          0.1111111111111111,
          0.2222222222222222,
          0.3333333333333333,
          0.4444444444444444,
          0.5555555555555556,
          0.6666666666666666,
          0.7777777777777777,
          0.8888888888888888,
          1
         ],
         "y": [
          0,
          0.1111111111111111,
          0.2222222222222222,
          0.3333333333333333,
          0.4444444444444444,
          0.5555555555555556,
          0.6666666666666666,
          0.7777777777777777,
          0.8888888888888888,
          1
         ],
         "z": [
          [
           -0.000797271728515625,
           0.34073686599731445,
           0.6415219306945801,
           0.8651061058044434,
           0.9843339920043945,
           0.9848551750183105,
           0.866610050201416,
           0.6437358856201172,
           0.3431985378265381,
           0.0016093254089355469
          ],
          [
           -0.0006382465362548828,
           0.30548596382141113,
           0.574833869934082,
           0.7747225761413574,
           0.8809795379638672,
           0.8808884620666504,
           0.774498462677002,
           0.5744872093200684,
           0.3048686981201172,
           -0.0016813278198242188
          ],
          [
           -0.0017271041870117188,
           0.2724757194519043,
           0.513587474822998,
           0.6924042701721191,
           0.7874002456665039,
           0.7872347831726074,
           0.6919832229614258,
           0.5130243301391602,
           0.27176666259765625,
           -0.002651214599609375
          ],
          [
           -0.0026035308837890625,
           0.24280595779418945,
           0.4585137367248535,
           0.618492603302002,
           0.703549861907959,
           0.703493595123291,
           0.6183791160583496,
           0.4584383964538574,
           0.24280452728271484,
           -0.002527475357055664
          ],
          [
           -0.0026063919067382812,
           0.21683502197265625,
           0.40967559814453125,
           0.5527634620666504,
           0.6289420127868652,
           0.6289892196655273,
           0.5529131889343262,
           0.40993738174438477,
           0.21721744537353516,
           -0.0020456314086914062
          ],
          [
           -0.001729726791381836,
           0.19434881210327148,
           0.3666536808013916,
           0.4945950508117676,
           0.5628018379211426,
           0.5628809928894043,
           0.4947795867919922,
           0.3668501377105713,
           0.19449996948242188,
           -0.0015425682067871094
          ],
          [
           -0.00040912628173828125,
           0.17476940155029297,
           0.3287241458892822,
           0.44312334060668945,
           0.5041723251342773,
           0.5042147636413574,
           0.4431600570678711,
           0.32857656478881836,
           0.17432475090026855,
           -0.001089334487915039
          ],
          [
           0.0007131099700927734,
           0.15735530853271484,
           0.2950170040130615,
           0.39735960960388184,
           0.4519972801208496,
           0.45197486877441406,
           0.39719676971435547,
           0.29453611373901367,
           0.15643692016601562,
           -0.0006170272827148438
          ],
          [
           0.0009837150573730469,
           0.14135384559631348,
           0.2646474838256836,
           0.35628175735473633,
           0.4051802158355713,
           0.40510034561157227,
           0.3559999465942383,
           0.2641158103942871,
           0.14057064056396484,
           -0.000045299530029296875
          ],
          [
           -0.00012230873107910156,
           0.12611794471740723,
           0.23679542541503906,
           0.31890392303466797,
           0.3626389503479004,
           0.3625221252441406,
           0.31863903999328613,
           0.23664617538452148,
           0.12638545036315918,
           0.0006418228149414062
          ]
         ]
        }
       ],
       "layout": {
        "height": 800,
        "legend": {
         "font": {
          "size": 16
         },
         "x": -0.1,
         "y": 1
        },
        "scene": {
         "aspectmode": "cube",
         "xaxis": {
          "title": {
           "text": "x"
          }
         },
         "yaxis": {
          "title": {
           "text": "t"
          }
         },
         "zaxis": {
          "title": {
           "text": "u(t,x)"
          }
         }
        },
        "template": {
         "data": {
          "bar": [
           {
            "error_x": {
             "color": "#2a3f5f"
            },
            "error_y": {
             "color": "#2a3f5f"
            },
            "marker": {
             "line": {
              "color": "#E5ECF6",
              "width": 0.5
             },
             "pattern": {
              "fillmode": "overlay",
              "size": 10,
              "solidity": 0.2
             }
            },
            "type": "bar"
           }
          ],
          "barpolar": [
           {
            "marker": {
             "line": {
              "color": "#E5ECF6",
              "width": 0.5
             },
             "pattern": {
              "fillmode": "overlay",
              "size": 10,
              "solidity": 0.2
             }
            },
            "type": "barpolar"
           }
          ],
          "carpet": [
           {
            "aaxis": {
             "endlinecolor": "#2a3f5f",
             "gridcolor": "white",
             "linecolor": "white",
             "minorgridcolor": "white",
             "startlinecolor": "#2a3f5f"
            },
            "baxis": {
             "endlinecolor": "#2a3f5f",
             "gridcolor": "white",
             "linecolor": "white",
             "minorgridcolor": "white",
             "startlinecolor": "#2a3f5f"
            },
            "type": "carpet"
           }
          ],
          "choropleth": [
           {
            "colorbar": {
             "outlinewidth": 0,
             "ticks": ""
            },
            "type": "choropleth"
           }
          ],
          "contour": [
           {
            "colorbar": {
             "outlinewidth": 0,
             "ticks": ""
            },
            "colorscale": [
             [
              0,
              "#0d0887"
             ],
             [
              0.1111111111111111,
              "#46039f"
             ],
             [
              0.2222222222222222,
              "#7201a8"
             ],
             [
              0.3333333333333333,
              "#9c179e"
             ],
             [
              0.4444444444444444,
              "#bd3786"
             ],
             [
              0.5555555555555556,
              "#d8576b"
             ],
             [
              0.6666666666666666,
              "#ed7953"
             ],
             [
              0.7777777777777778,
              "#fb9f3a"
             ],
             [
              0.8888888888888888,
              "#fdca26"
             ],
             [
              1,
              "#f0f921"
             ]
            ],
            "type": "contour"
           }
          ],
          "contourcarpet": [
           {
            "colorbar": {
             "outlinewidth": 0,
             "ticks": ""
            },
            "type": "contourcarpet"
           }
          ],
          "heatmap": [
           {
            "colorbar": {
             "outlinewidth": 0,
             "ticks": ""
            },
            "colorscale": [
             [
              0,
              "#0d0887"
             ],
             [
              0.1111111111111111,
              "#46039f"
             ],
             [
              0.2222222222222222,
              "#7201a8"
             ],
             [
              0.3333333333333333,
              "#9c179e"
             ],
             [
              0.4444444444444444,
              "#bd3786"
             ],
             [
              0.5555555555555556,
              "#d8576b"
             ],
             [
              0.6666666666666666,
              "#ed7953"
             ],
             [
              0.7777777777777778,
              "#fb9f3a"
             ],
             [
              0.8888888888888888,
              "#fdca26"
             ],
             [
              1,
              "#f0f921"
             ]
            ],
            "type": "heatmap"
           }
          ],
          "heatmapgl": [
           {
            "colorbar": {
             "outlinewidth": 0,
             "ticks": ""
            },
            "colorscale": [
             [
              0,
              "#0d0887"
             ],
             [
              0.1111111111111111,
              "#46039f"
             ],
             [
              0.2222222222222222,
              "#7201a8"
             ],
             [
              0.3333333333333333,
              "#9c179e"
             ],
             [
              0.4444444444444444,
              "#bd3786"
             ],
             [
              0.5555555555555556,
              "#d8576b"
             ],
             [
              0.6666666666666666,
              "#ed7953"
             ],
             [
              0.7777777777777778,
              "#fb9f3a"
             ],
             [
              0.8888888888888888,
              "#fdca26"
             ],
             [
              1,
              "#f0f921"
             ]
            ],
            "type": "heatmapgl"
           }
          ],
          "histogram": [
           {
            "marker": {
             "pattern": {
              "fillmode": "overlay",
              "size": 10,
              "solidity": 0.2
             }
            },
            "type": "histogram"
           }
          ],
          "histogram2d": [
           {
            "colorbar": {
             "outlinewidth": 0,
             "ticks": ""
            },
            "colorscale": [
             [
              0,
              "#0d0887"
             ],
             [
              0.1111111111111111,
              "#46039f"
             ],
             [
              0.2222222222222222,
              "#7201a8"
             ],
             [
              0.3333333333333333,
              "#9c179e"
             ],
             [
              0.4444444444444444,
              "#bd3786"
             ],
             [
              0.5555555555555556,
              "#d8576b"
             ],
             [
              0.6666666666666666,
              "#ed7953"
             ],
             [
              0.7777777777777778,
              "#fb9f3a"
             ],
             [
              0.8888888888888888,
              "#fdca26"
             ],
             [
              1,
              "#f0f921"
             ]
            ],
            "type": "histogram2d"
           }
          ],
          "histogram2dcontour": [
           {
            "colorbar": {
             "outlinewidth": 0,
             "ticks": ""
            },
            "colorscale": [
             [
              0,
              "#0d0887"
             ],
             [
              0.1111111111111111,
              "#46039f"
             ],
             [
              0.2222222222222222,
              "#7201a8"
             ],
             [
              0.3333333333333333,
              "#9c179e"
             ],
             [
              0.4444444444444444,
              "#bd3786"
             ],
             [
              0.5555555555555556,
              "#d8576b"
             ],
             [
              0.6666666666666666,
              "#ed7953"
             ],
             [
              0.7777777777777778,
              "#fb9f3a"
             ],
             [
              0.8888888888888888,
              "#fdca26"
             ],
             [
              1,
              "#f0f921"
             ]
            ],
            "type": "histogram2dcontour"
           }
          ],
          "mesh3d": [
           {
            "colorbar": {
             "outlinewidth": 0,
             "ticks": ""
            },
            "type": "mesh3d"
           }
          ],
          "parcoords": [
           {
            "line": {
             "colorbar": {
              "outlinewidth": 0,
              "ticks": ""
             }
            },
            "type": "parcoords"
           }
          ],
          "pie": [
           {
            "automargin": true,
            "type": "pie"
           }
          ],
          "scatter": [
           {
            "fillpattern": {
             "fillmode": "overlay",
             "size": 10,
             "solidity": 0.2
            },
            "type": "scatter"
           }
          ],
          "scatter3d": [
           {
            "line": {
             "colorbar": {
              "outlinewidth": 0,
              "ticks": ""
             }
            },
            "marker": {
             "colorbar": {
              "outlinewidth": 0,
              "ticks": ""
             }
            },
            "type": "scatter3d"
           }
          ],
          "scattercarpet": [
           {
            "marker": {
             "colorbar": {
              "outlinewidth": 0,
              "ticks": ""
             }
            },
            "type": "scattercarpet"
           }
          ],
          "scattergeo": [
           {
            "marker": {
             "colorbar": {
              "outlinewidth": 0,
              "ticks": ""
             }
            },
            "type": "scattergeo"
           }
          ],
          "scattergl": [
           {
            "marker": {
             "colorbar": {
              "outlinewidth": 0,
              "ticks": ""
             }
            },
            "type": "scattergl"
           }
          ],
          "scattermapbox": [
           {
            "marker": {
             "colorbar": {
              "outlinewidth": 0,
              "ticks": ""
             }
            },
            "type": "scattermapbox"
           }
          ],
          "scatterpolar": [
           {
            "marker": {
             "colorbar": {
              "outlinewidth": 0,
              "ticks": ""
             }
            },
            "type": "scatterpolar"
           }
          ],
          "scatterpolargl": [
           {
            "marker": {
             "colorbar": {
              "outlinewidth": 0,
              "ticks": ""
             }
            },
            "type": "scatterpolargl"
           }
          ],
          "scatterternary": [
           {
            "marker": {
             "colorbar": {
              "outlinewidth": 0,
              "ticks": ""
             }
            },
            "type": "scatterternary"
           }
          ],
          "surface": [
           {
            "colorbar": {
             "outlinewidth": 0,
             "ticks": ""
            },
            "colorscale": [
             [
              0,
              "#0d0887"
             ],
             [
              0.1111111111111111,
              "#46039f"
             ],
             [
              0.2222222222222222,
              "#7201a8"
             ],
             [
              0.3333333333333333,
              "#9c179e"
             ],
             [
              0.4444444444444444,
              "#bd3786"
             ],
             [
              0.5555555555555556,
              "#d8576b"
             ],
             [
              0.6666666666666666,
              "#ed7953"
             ],
             [
              0.7777777777777778,
              "#fb9f3a"
             ],
             [
              0.8888888888888888,
              "#fdca26"
             ],
             [
              1,
              "#f0f921"
             ]
            ],
            "type": "surface"
           }
          ],
          "table": [
           {
            "cells": {
             "fill": {
              "color": "#EBF0F8"
             },
             "line": {
              "color": "white"
             }
            },
            "header": {
             "fill": {
              "color": "#C8D4E3"
             },
             "line": {
              "color": "white"
             }
            },
            "type": "table"
           }
          ]
         },
         "layout": {
          "annotationdefaults": {
           "arrowcolor": "#2a3f5f",
           "arrowhead": 0,
           "arrowwidth": 1
          },
          "autotypenumbers": "strict",
          "coloraxis": {
           "colorbar": {
            "outlinewidth": 0,
            "ticks": ""
           }
          },
          "colorscale": {
           "diverging": [
            [
             0,
             "#8e0152"
            ],
            [
             0.1,
             "#c51b7d"
            ],
            [
             0.2,
             "#de77ae"
            ],
            [
             0.3,
             "#f1b6da"
            ],
            [
             0.4,
             "#fde0ef"
            ],
            [
             0.5,
             "#f7f7f7"
            ],
            [
             0.6,
             "#e6f5d0"
            ],
            [
             0.7,
             "#b8e186"
            ],
            [
             0.8,
             "#7fbc41"
            ],
            [
             0.9,
             "#4d9221"
            ],
            [
             1,
             "#276419"
            ]
           ],
           "sequential": [
            [
             0,
             "#0d0887"
            ],
            [
             0.1111111111111111,
             "#46039f"
            ],
            [
             0.2222222222222222,
             "#7201a8"
            ],
            [
             0.3333333333333333,
             "#9c179e"
            ],
            [
             0.4444444444444444,
             "#bd3786"
            ],
            [
             0.5555555555555556,
             "#d8576b"
            ],
            [
             0.6666666666666666,
             "#ed7953"
            ],
            [
             0.7777777777777778,
             "#fb9f3a"
            ],
            [
             0.8888888888888888,
             "#fdca26"
            ],
            [
             1,
             "#f0f921"
            ]
           ],
           "sequentialminus": [
            [
             0,
             "#0d0887"
            ],
            [
             0.1111111111111111,
             "#46039f"
            ],
            [
             0.2222222222222222,
             "#7201a8"
            ],
            [
             0.3333333333333333,
             "#9c179e"
            ],
            [
             0.4444444444444444,
             "#bd3786"
            ],
            [
             0.5555555555555556,
             "#d8576b"
            ],
            [
             0.6666666666666666,
             "#ed7953"
            ],
            [
             0.7777777777777778,
             "#fb9f3a"
            ],
            [
             0.8888888888888888,
             "#fdca26"
            ],
            [
             1,
             "#f0f921"
            ]
           ]
          },
          "colorway": [
           "#636efa",
           "#EF553B",
           "#00cc96",
           "#ab63fa",
           "#FFA15A",
           "#19d3f3",
           "#FF6692",
           "#B6E880",
           "#FF97FF",
           "#FECB52"
          ],
          "font": {
           "color": "#2a3f5f"
          },
          "geo": {
           "bgcolor": "white",
           "lakecolor": "white",
           "landcolor": "#E5ECF6",
           "showlakes": true,
           "showland": true,
           "subunitcolor": "white"
          },
          "hoverlabel": {
           "align": "left"
          },
          "hovermode": "closest",
          "mapbox": {
           "style": "light"
          },
          "paper_bgcolor": "white",
          "plot_bgcolor": "#E5ECF6",
          "polar": {
           "angularaxis": {
            "gridcolor": "white",
            "linecolor": "white",
            "ticks": ""
           },
           "bgcolor": "#E5ECF6",
           "radialaxis": {
            "gridcolor": "white",
            "linecolor": "white",
            "ticks": ""
           }
          },
          "scene": {
           "xaxis": {
            "backgroundcolor": "#E5ECF6",
            "gridcolor": "white",
            "gridwidth": 2,
            "linecolor": "white",
            "showbackground": true,
            "ticks": "",
            "zerolinecolor": "white"
           },
           "yaxis": {
            "backgroundcolor": "#E5ECF6",
            "gridcolor": "white",
            "gridwidth": 2,
            "linecolor": "white",
            "showbackground": true,
            "ticks": "",
            "zerolinecolor": "white"
           },
           "zaxis": {
            "backgroundcolor": "#E5ECF6",
            "gridcolor": "white",
            "gridwidth": 2,
            "linecolor": "white",
            "showbackground": true,
            "ticks": "",
            "zerolinecolor": "white"
           }
          },
          "shapedefaults": {
           "line": {
            "color": "#2a3f5f"
           }
          },
          "ternary": {
           "aaxis": {
            "gridcolor": "white",
            "linecolor": "white",
            "ticks": ""
           },
           "baxis": {
            "gridcolor": "white",
            "linecolor": "white",
            "ticks": ""
           },
           "bgcolor": "#E5ECF6",
           "caxis": {
            "gridcolor": "white",
            "linecolor": "white",
            "ticks": ""
           }
          },
          "title": {
           "x": 0.05
          },
          "xaxis": {
           "automargin": true,
           "gridcolor": "white",
           "linecolor": "white",
           "ticks": "",
           "title": {
            "standoff": 15
           },
           "zerolinecolor": "white",
           "zerolinewidth": 2
          },
          "yaxis": {
           "automargin": true,
           "gridcolor": "white",
           "linecolor": "white",
           "ticks": "",
           "title": {
            "standoff": 15
           },
           "zerolinecolor": "white",
           "zerolinewidth": 2
          }
         }
        },
        "width": 1000
       }
      }
     },
     "metadata": {},
     "output_type": "display_data"
    }
   ],
   "source": [
    "# Entrenar el modelo\n",
    "pinn_inf_model.train(\n",
    "    data=data,\n",
    "    diff_equation=diff_equation,\n",
    "    constant_values=diff_equation.constants,\n",
    "    initial_conditions=initial_conditions,\n",
    "    lr=lr,\n",
    "    n_epochs=n_epochs,\n",
    "    optimizer_name=optimizer,\n",
    "    lambda_pin=lambda_pin,\n",
    "    lambda_ic=lambda_ic,\n",
    "    lambda_bc=lambda_bc,\n",
    ")\n",
    "\n",
    "for constant in pinn_inf_model.params:\n",
    "    print(constant, getattr(pinn_inf_model, constant).item())\n",
    "\n",
    "\n",
    "# Plot the results\n",
    "if diff_equation.dy:\n",
    "    pinn_inf_model.plot_2d(data)\n",
    "elif diff_equation.dx and not diff_equation.dy:\n",
    "    pinn_inf_model.plot_solution(data)\n",
    "elif not diff_equation.dx:\n",
    "    pinn_inf_model.plot(data)\n",
    "\n"
   ]
  },
  {
   "cell_type": "markdown",
   "metadata": {},
   "source": [
    "## 2D visualization"
   ]
  },
  {
   "cell_type": "code",
   "execution_count": 1027,
   "metadata": {},
   "outputs": [],
   "source": [
    "# train_t = np.linspace(0, T, max_iter_time)\n",
    "\n",
    "# u_pred = pinn_inf_model(data[2]).reshape(len(train_t), plate_length, plate_length).detach().numpy()\n",
    "# u_true = data[3].reshape(len(train_t), plate_length, plate_length).detach().numpy()\n",
    "# t = -1\n",
    "\n",
    "# fig, axs = plt.subplots(1, 2, figsize=(12, 6))\n",
    "# ax1, ax2 = axs\n",
    "\n",
    "# im1 = ax1.imshow(u_pred[t, :, :], cmap=plt.cm.jet, vmin=0, vmax=1)\n",
    "# im2 = ax2.imshow(u_true[t, :, :], cmap=plt.cm.jet, vmin=0, vmax=1)\n",
    "\n",
    "# # Add colorbars to both subplots\n",
    "# fig.colorbar(im1, ax=ax1)\n",
    "# fig.colorbar(im2, ax=ax2)\n",
    "\n",
    "# # Set initial titles and labels\n",
    "# ax1.set_title(f'Predicted Temperature at t = {0.1 * (t % max_iter_time)}')\n",
    "# ax1.set_xlabel('x')\n",
    "# ax1.set_ylabel('y')\n",
    "\n",
    "# ax2.set_title(f'True Temperature at t = {0.1 * (t % max_iter_time)}')\n",
    "# ax2.set_xlabel('x')\n",
    "# ax2.set_ylabel('y')\n",
    "# plt.show()"
   ]
  },
  {
   "cell_type": "markdown",
   "metadata": {},
   "source": [
    "# Functional Inference"
   ]
  },
  {
   "cell_type": "markdown",
   "metadata": {},
   "source": [
    "Check if the function has been learnt"
   ]
  },
  {
   "cell_type": "code",
   "execution_count": 1028,
   "metadata": {},
   "outputs": [],
   "source": [
    "if func_to_optimize:\n",
    "    temps = pinn_inf_model(data[2])\n",
    "    data[2].requires_grad = True\n",
    "    P_stack_dT = diff_equation()(data[2], temps).detach().numpy()\n",
    "\n",
    "    if not diff_equation.dx:\n",
    "        plt.plot(data[2].detach().numpy(), P_stack_dT, 'g--', label='p_stack - dT')\n",
    "        plt.plot(data[2].detach().numpy(), [0 for _ in range(len(data[2].detach().numpy()))], 'r--', label='0')\n",
    "        plt.legend()\n",
    "        plt.show()\n",
    "    else:\n",
    "        # Crear Scatter3d para datos de entrenamiento y prueba\n",
    "        num_test_divisions = int(np.sqrt(len(P_stack_dT)))\n",
    "        t_test = np.linspace(0, data[2][-1, 0].item(), num_test_divisions)\n",
    "        x_test = np.linspace(0, data[2][-1, 1].item(), num_test_divisions)\n",
    "        u_test = P_stack_dT.reshape((num_test_divisions, num_test_divisions))\n",
    "        scatter_test = go.Scatter3d(\n",
    "            x=data[2][:, 1].detach().numpy(),\n",
    "            y=data[2][:, 0].detach().numpy(),\n",
    "            z=P_stack_dT[:, 0],\n",
    "            mode=\"markers\",\n",
    "            marker=dict(size=4, opacity=0.5, color=\"blue\"),\n",
    "            name=\"test Data\",\n",
    "        )\n",
    "\n",
    "        y_pred = P_stack_dT\n",
    "        u_test = y_pred.reshape((num_test_divisions, num_test_divisions))\n",
    "        scatter_pred = go.Scatter3d(\n",
    "            x=data[2][:, 1].detach().numpy(),\n",
    "            y=data[2][:, 0].detach().numpy(),\n",
    "            z=y_pred[:, 0],\n",
    "            mode=\"markers\",\n",
    "            marker=dict(size=2, opacity=0.35, color=\"red\"),\n",
    "            name=\"Test Data\",\n",
    "        )\n",
    "\n",
    "        # Crear la superficie para la función subyacente\n",
    "        surface_true = go.Surface(\n",
    "            x=t_test,\n",
    "            y=x_test,\n",
    "            z=u_test,\n",
    "            opacity=0.5,\n",
    "            colorscale=\"Blues\",\n",
    "            showscale=False,\n",
    "            name=\"True Function\",\n",
    "        )\n",
    "        surface_pred = go.Surface(\n",
    "            x=t_test,\n",
    "            y=x_test,\n",
    "            z=u_test,\n",
    "            opacity=0.5,\n",
    "            colorscale=\"Blues\",\n",
    "            showscale=False,\n",
    "            name=\"True Function\",\n",
    "        )\n",
    "\n",
    "        # Crear el gráfico\n",
    "        fig = go.Figure(data=[scatter_test, scatter_pred, surface_true, surface_pred])\n",
    "        fig.update_layout(\n",
    "            scene=dict(\n",
    "                xaxis_title=\"t\",\n",
    "                yaxis_title=\"x\",\n",
    "                zaxis_title=\"u(t,x)\",\n",
    "                aspectmode=\"cube\",\n",
    "            ),\n",
    "            width=1000,  # Cambia el ancho de la figura\n",
    "            height=800,\n",
    "            legend=dict(x=-0.1, y=1.0, font=dict(size=16)),\n",
    "        )  # Ajusta el tamaño del texto de la leyenda\n",
    "        fig.show()"
   ]
  }
 ],
 "metadata": {
  "kernelspec": {
   "display_name": "Python 3",
   "language": "python",
   "name": "python3"
  },
  "language_info": {
   "codemirror_mode": {
    "name": "ipython",
    "version": 3
   },
   "file_extension": ".py",
   "mimetype": "text/x-python",
   "name": "python",
   "nbconvert_exporter": "python",
   "pygments_lexer": "ipython3",
   "version": "3.11.6"
  }
 },
 "nbformat": 4,
 "nbformat_minor": 2
}

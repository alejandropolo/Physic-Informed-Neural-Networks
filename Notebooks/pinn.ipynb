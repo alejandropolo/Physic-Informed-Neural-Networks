{
 "cells": [
  {
   "cell_type": "code",
   "execution_count": 184,
   "metadata": {},
   "outputs": [
    {
     "data": {
      "text/plain": [
       "<torch._C.Generator at 0x10ee7fc70>"
      ]
     },
     "execution_count": 184,
     "metadata": {},
     "output_type": "execute_result"
    }
   ],
   "source": [
    "import sys\n",
    "import importlib\n",
    "import re\n",
    "\n",
    "import torch\n",
    "import numpy as np\n",
    "import pandas as pd\n",
    "\n",
    "import plotly.graph_objects as go\n",
    "import matplotlib.pyplot as plt\n",
    "import matplotlib.animation as animation\n",
    "\n",
    "sys.path.append('../Scripts/')\n",
    "import PINN_moredim\n",
    "import data\n",
    "\n",
    "importlib.reload(PINN_moredim)\n",
    "importlib.reload(data)\n",
    "from PINN_moredim import PINN_inference, DiffEquation\n",
    "from data import (\n",
    "    load_data_ode,\n",
    "    load_data_pde,\n",
    "    load_data_neumann,\n",
    "    load_data_moredim,\n",
    "    load_csv_data,\n",
    ")\n",
    "\n",
    "# from train import train\n",
    "\n",
    "import warnings\n",
    "warnings.filterwarnings(\"ignore\")\n",
    "\n",
    "DEVICE = torch.device(\"cuda\" if torch.cuda.is_available() else \"cpu\")\n",
    "\n",
    "torch.manual_seed(42)"
   ]
  },
  {
   "cell_type": "code",
   "execution_count": 185,
   "metadata": {},
   "outputs": [],
   "source": [
    "import yaml\n",
    "\n",
    "# Load the YAML file\n",
    "with open('../Config/config_pde_robin.yaml', 'r') as file:\n",
    "    config = yaml.safe_load(file)\n",
    "\n",
    "# Automatically create variables from the YAML keys\n",
    "for key, value in config.items():\n",
    "    for k, v in value.items():\n",
    "        globals()[k] = v\n"
   ]
  },
  {
   "cell_type": "markdown",
   "metadata": {},
   "source": [
    "## Parameters"
   ]
  },
  {
   "cell_type": "markdown",
   "metadata": {},
   "source": [
    "## Equation and Conditions"
   ]
  },
  {
   "cell_type": "markdown",
   "metadata": {},
   "source": [
    "## Data Load"
   ]
  },
  {
   "cell_type": "code",
   "execution_count": 186,
   "metadata": {},
   "outputs": [],
   "source": [
    "\n",
    "\n",
    "diff_equation = DiffEquation(equation=equation, func_to_optimize=func_to_optimize, hidden_layers=[300, 100], activation='sigmoid')\n",
    "\n",
    "diff_equation.set_constants(constant_values)\n"
   ]
  },
  {
   "cell_type": "code",
   "execution_count": 187,
   "metadata": {},
   "outputs": [],
   "source": [
    "# Keep in mind that when using neumann, you have to define the solution in the PINN_moredim.py file\n",
    "bc_type = 'diri'\n",
    "if diff_equation.dx:\n",
    "    for eq in initial_conditions:\n",
    "        if 'ud' in eq:\n",
    "            bc_type = 'neumann'"
   ]
  },
  {
   "cell_type": "code",
   "execution_count": 188,
   "metadata": {},
   "outputs": [
    {
     "data": {
      "application/vnd.plotly.v1+json": {
       "config": {
        "plotlyServerURL": "https://plot.ly"
       },
       "data": [
        {
         "marker": {
          "color": "red",
          "opacity": 0.2,
          "size": 2
         },
         "mode": "markers",
         "name": "Test Data",
         "type": "scatter3d",
         "x": [
          -1,
          -0.7777777910232544,
          -0.5555555820465088,
          -0.3333333432674408,
          -0.1111111119389534,
          0.1111111119389534,
          0.3333333432674408,
          0.5555555820465088,
          0.7777777910232544,
          1,
          -1,
          -0.7777777910232544,
          -0.5555555820465088,
          -0.3333333432674408,
          -0.1111111119389534,
          0.1111111119389534,
          0.3333333432674408,
          0.5555555820465088,
          0.7777777910232544,
          1,
          -1,
          -0.7777777910232544,
          -0.5555555820465088,
          -0.3333333432674408,
          -0.1111111119389534,
          0.1111111119389534,
          0.3333333432674408,
          0.5555555820465088,
          0.7777777910232544,
          1,
          -1,
          -0.7777777910232544,
          -0.5555555820465088,
          -0.3333333432674408,
          -0.1111111119389534,
          0.1111111119389534,
          0.3333333432674408,
          0.5555555820465088,
          0.7777777910232544,
          1,
          -1,
          -0.7777777910232544,
          -0.5555555820465088,
          -0.3333333432674408,
          -0.1111111119389534,
          0.1111111119389534,
          0.3333333432674408,
          0.5555555820465088,
          0.7777777910232544,
          1,
          -1,
          -0.7777777910232544,
          -0.5555555820465088,
          -0.3333333432674408,
          -0.1111111119389534,
          0.1111111119389534,
          0.3333333432674408,
          0.5555555820465088,
          0.7777777910232544,
          1,
          -1,
          -0.7777777910232544,
          -0.5555555820465088,
          -0.3333333432674408,
          -0.1111111119389534,
          0.1111111119389534,
          0.3333333432674408,
          0.5555555820465088,
          0.7777777910232544,
          1,
          -1,
          -0.7777777910232544,
          -0.5555555820465088,
          -0.3333333432674408,
          -0.1111111119389534,
          0.1111111119389534,
          0.3333333432674408,
          0.5555555820465088,
          0.7777777910232544,
          1,
          -1,
          -0.7777777910232544,
          -0.5555555820465088,
          -0.3333333432674408,
          -0.1111111119389534,
          0.1111111119389534,
          0.3333333432674408,
          0.5555555820465088,
          0.7777777910232544,
          1,
          -1,
          -0.7777777910232544,
          -0.5555555820465088,
          -0.3333333432674408,
          -0.1111111119389534,
          0.1111111119389534,
          0.3333333432674408,
          0.5555555820465088,
          0.7777777910232544,
          1
         ],
         "y": [
          0,
          0,
          0,
          0,
          0,
          0,
          0,
          0,
          0,
          0,
          0.1111111119389534,
          0.1111111119389534,
          0.1111111119389534,
          0.1111111119389534,
          0.1111111119389534,
          0.1111111119389534,
          0.1111111119389534,
          0.1111111119389534,
          0.1111111119389534,
          0.1111111119389534,
          0.2222222238779068,
          0.2222222238779068,
          0.2222222238779068,
          0.2222222238779068,
          0.2222222238779068,
          0.2222222238779068,
          0.2222222238779068,
          0.2222222238779068,
          0.2222222238779068,
          0.2222222238779068,
          0.3333333432674408,
          0.3333333432674408,
          0.3333333432674408,
          0.3333333432674408,
          0.3333333432674408,
          0.3333333432674408,
          0.3333333432674408,
          0.3333333432674408,
          0.3333333432674408,
          0.3333333432674408,
          0.4444444477558136,
          0.4444444477558136,
          0.4444444477558136,
          0.4444444477558136,
          0.4444444477558136,
          0.4444444477558136,
          0.4444444477558136,
          0.4444444477558136,
          0.4444444477558136,
          0.4444444477558136,
          0.5555555820465088,
          0.5555555820465088,
          0.5555555820465088,
          0.5555555820465088,
          0.5555555820465088,
          0.5555555820465088,
          0.5555555820465088,
          0.5555555820465088,
          0.5555555820465088,
          0.5555555820465088,
          0.6666666865348816,
          0.6666666865348816,
          0.6666666865348816,
          0.6666666865348816,
          0.6666666865348816,
          0.6666666865348816,
          0.6666666865348816,
          0.6666666865348816,
          0.6666666865348816,
          0.6666666865348816,
          0.7777777910232544,
          0.7777777910232544,
          0.7777777910232544,
          0.7777777910232544,
          0.7777777910232544,
          0.7777777910232544,
          0.7777777910232544,
          0.7777777910232544,
          0.7777777910232544,
          0.7777777910232544,
          0.8888888955116272,
          0.8888888955116272,
          0.8888888955116272,
          0.8888888955116272,
          0.8888888955116272,
          0.8888888955116272,
          0.8888888955116272,
          0.8888888955116272,
          0.8888888955116272,
          0.8888888955116272,
          1,
          1,
          1,
          1,
          1,
          1,
          1,
          1,
          1,
          1
         ],
         "z": [
          -1,
          -0.7777777910232544,
          -0.5555555820465088,
          -0.3333333432674408,
          -0.1111111119389534,
          0.1111111119389534,
          0.3333333432674408,
          0.5555555820465088,
          0.7777777910232544,
          1,
          -0.9938334822654724,
          -0.772981584072113,
          -0.5521297454833984,
          -0.33127784729003906,
          -0.11042594164609909,
          0.11042594164609909,
          0.33127784729003906,
          0.5521297454833984,
          0.772981584072113,
          0.9938334822654724,
          -0.9754101037979126,
          -0.7586523294448853,
          -0.5418945550918579,
          -0.3251367211341858,
          -0.10837890207767487,
          0.10837890207767487,
          0.3251367211341858,
          0.5418945550918579,
          0.7586523294448853,
          0.9754101037979126,
          -0.9449569582939148,
          -0.734966516494751,
          -0.5249761343002319,
          -0.3149856626987457,
          -0.10499522089958191,
          0.10499522089958191,
          0.3149856626987457,
          0.5249761343002319,
          0.734966516494751,
          0.9449569582939148,
          -0.9028496742248535,
          -0.7022164463996887,
          -0.5015831589698792,
          -0.30094990134239197,
          -0.10031662881374359,
          0.10031662881374359,
          0.30094990134239197,
          0.5015831589698792,
          0.7022164463996887,
          0.9028496742248535,
          -0.849607527256012,
          -0.660805881023407,
          -0.4720042049884796,
          -0.28320252895355225,
          -0.09440083801746368,
          0.09440083801746368,
          0.28320252895355225,
          0.4720042049884796,
          0.660805881023407,
          0.849607527256012,
          -0.7858872413635254,
          -0.6112456321716309,
          -0.4366040527820587,
          -0.2619624137878418,
          -0.08732080459594727,
          0.08732080459594727,
          0.2619624137878418,
          0.4366040527820587,
          0.6112456321716309,
          0.7858872413635254,
          -0.7124745845794678,
          -0.5541468858718872,
          -0.3958192467689514,
          -0.23749153316020966,
          -0.07916384190320969,
          0.07916384190320969,
          0.23749153316020966,
          0.3958192467689514,
          0.5541468858718872,
          0.7124745845794678,
          -0.6302750706672668,
          -0.49021396040916443,
          -0.3501528203487396,
          -0.210091695189476,
          -0.0700305625796318,
          0.0700305625796318,
          0.210091695189476,
          0.3501528203487396,
          0.49021396040916443,
          0.6302750706672668,
          -0.5403023362159729,
          -0.42023515701293945,
          -0.300167977809906,
          -0.18010078370571136,
          -0.06003359332680702,
          0.06003359332680702,
          0.18010078370571136,
          0.300167977809906,
          0.42023515701293945,
          0.5403023362159729
         ]
        },
        {
         "marker": {
          "color": "blue",
          "opacity": 0.7,
          "size": 4
         },
         "mode": "markers",
         "name": "Train Data",
         "type": "scatter3d",
         "x": [
          -1,
          -0.7777777910232544,
          -0.5555555820465088,
          -0.3333333432674408,
          -0.1111111119389534,
          0.1111111119389534,
          0.3333333432674408,
          0.5555555820465088,
          0.7777777910232544,
          1
         ],
         "y": [
          0,
          0,
          0,
          0,
          0,
          0,
          0,
          0,
          0,
          0
         ],
         "z": [
          -1,
          -0.7777777910232544,
          -0.5555555820465088,
          -0.3333333432674408,
          -0.1111111119389534,
          0.1111111119389534,
          0.3333333432674408,
          0.5555555820465088,
          0.7777777910232544,
          1
         ]
        },
        {
         "colorscale": [
          [
           0,
           "rgb(247,251,255)"
          ],
          [
           0.125,
           "rgb(222,235,247)"
          ],
          [
           0.25,
           "rgb(198,219,239)"
          ],
          [
           0.375,
           "rgb(158,202,225)"
          ],
          [
           0.5,
           "rgb(107,174,214)"
          ],
          [
           0.625,
           "rgb(66,146,198)"
          ],
          [
           0.75,
           "rgb(33,113,181)"
          ],
          [
           0.875,
           "rgb(8,81,156)"
          ],
          [
           1,
           "rgb(8,48,107)"
          ]
         ],
         "name": "True Function",
         "opacity": 0.5,
         "showscale": false,
         "type": "surface",
         "x": [
          -1,
          -0.7777777777777778,
          -0.5555555555555556,
          -0.33333333333333337,
          -0.11111111111111116,
          0.11111111111111116,
          0.33333333333333326,
          0.5555555555555554,
          0.7777777777777777,
          1
         ],
         "y": [
          0,
          0.1111111111111111,
          0.2222222222222222,
          0.3333333333333333,
          0.4444444444444444,
          0.5555555555555556,
          0.6666666666666666,
          0.7777777777777777,
          0.8888888888888888,
          1
         ],
         "z": [
          [
           -1,
           -0.7777777910232544,
           -0.5555555820465088,
           -0.3333333432674408,
           -0.1111111119389534,
           0.1111111119389534,
           0.3333333432674408,
           0.5555555820465088,
           0.7777777910232544,
           1
          ],
          [
           -0.9938334822654724,
           -0.772981584072113,
           -0.5521297454833984,
           -0.33127784729003906,
           -0.11042594164609909,
           0.11042594164609909,
           0.33127784729003906,
           0.5521297454833984,
           0.772981584072113,
           0.9938334822654724
          ],
          [
           -0.9754101037979126,
           -0.7586523294448853,
           -0.5418945550918579,
           -0.3251367211341858,
           -0.10837890207767487,
           0.10837890207767487,
           0.3251367211341858,
           0.5418945550918579,
           0.7586523294448853,
           0.9754101037979126
          ],
          [
           -0.9449569582939148,
           -0.734966516494751,
           -0.5249761343002319,
           -0.3149856626987457,
           -0.10499522089958191,
           0.10499522089958191,
           0.3149856626987457,
           0.5249761343002319,
           0.734966516494751,
           0.9449569582939148
          ],
          [
           -0.9028496742248535,
           -0.7022164463996887,
           -0.5015831589698792,
           -0.30094990134239197,
           -0.10031662881374359,
           0.10031662881374359,
           0.30094990134239197,
           0.5015831589698792,
           0.7022164463996887,
           0.9028496742248535
          ],
          [
           -0.849607527256012,
           -0.660805881023407,
           -0.4720042049884796,
           -0.28320252895355225,
           -0.09440083801746368,
           0.09440083801746368,
           0.28320252895355225,
           0.4720042049884796,
           0.660805881023407,
           0.849607527256012
          ],
          [
           -0.7858872413635254,
           -0.6112456321716309,
           -0.4366040527820587,
           -0.2619624137878418,
           -0.08732080459594727,
           0.08732080459594727,
           0.2619624137878418,
           0.4366040527820587,
           0.6112456321716309,
           0.7858872413635254
          ],
          [
           -0.7124745845794678,
           -0.5541468858718872,
           -0.3958192467689514,
           -0.23749153316020966,
           -0.07916384190320969,
           0.07916384190320969,
           0.23749153316020966,
           0.3958192467689514,
           0.5541468858718872,
           0.7124745845794678
          ],
          [
           -0.6302750706672668,
           -0.49021396040916443,
           -0.3501528203487396,
           -0.210091695189476,
           -0.0700305625796318,
           0.0700305625796318,
           0.210091695189476,
           0.3501528203487396,
           0.49021396040916443,
           0.6302750706672668
          ],
          [
           -0.5403023362159729,
           -0.42023515701293945,
           -0.300167977809906,
           -0.18010078370571136,
           -0.06003359332680702,
           0.06003359332680702,
           0.18010078370571136,
           0.300167977809906,
           0.42023515701293945,
           0.5403023362159729
          ]
         ]
        }
       ],
       "layout": {
        "height": 800,
        "legend": {
         "font": {
          "size": 16
         },
         "x": -0.1,
         "y": 1
        },
        "scene": {
         "aspectmode": "cube",
         "xaxis": {
          "title": {
           "text": "x"
          }
         },
         "yaxis": {
          "title": {
           "text": "t"
          }
         },
         "zaxis": {
          "title": {
           "text": "u(t,x)"
          }
         }
        },
        "template": {
         "data": {
          "bar": [
           {
            "error_x": {
             "color": "#2a3f5f"
            },
            "error_y": {
             "color": "#2a3f5f"
            },
            "marker": {
             "line": {
              "color": "#E5ECF6",
              "width": 0.5
             },
             "pattern": {
              "fillmode": "overlay",
              "size": 10,
              "solidity": 0.2
             }
            },
            "type": "bar"
           }
          ],
          "barpolar": [
           {
            "marker": {
             "line": {
              "color": "#E5ECF6",
              "width": 0.5
             },
             "pattern": {
              "fillmode": "overlay",
              "size": 10,
              "solidity": 0.2
             }
            },
            "type": "barpolar"
           }
          ],
          "carpet": [
           {
            "aaxis": {
             "endlinecolor": "#2a3f5f",
             "gridcolor": "white",
             "linecolor": "white",
             "minorgridcolor": "white",
             "startlinecolor": "#2a3f5f"
            },
            "baxis": {
             "endlinecolor": "#2a3f5f",
             "gridcolor": "white",
             "linecolor": "white",
             "minorgridcolor": "white",
             "startlinecolor": "#2a3f5f"
            },
            "type": "carpet"
           }
          ],
          "choropleth": [
           {
            "colorbar": {
             "outlinewidth": 0,
             "ticks": ""
            },
            "type": "choropleth"
           }
          ],
          "contour": [
           {
            "colorbar": {
             "outlinewidth": 0,
             "ticks": ""
            },
            "colorscale": [
             [
              0,
              "#0d0887"
             ],
             [
              0.1111111111111111,
              "#46039f"
             ],
             [
              0.2222222222222222,
              "#7201a8"
             ],
             [
              0.3333333333333333,
              "#9c179e"
             ],
             [
              0.4444444444444444,
              "#bd3786"
             ],
             [
              0.5555555555555556,
              "#d8576b"
             ],
             [
              0.6666666666666666,
              "#ed7953"
             ],
             [
              0.7777777777777778,
              "#fb9f3a"
             ],
             [
              0.8888888888888888,
              "#fdca26"
             ],
             [
              1,
              "#f0f921"
             ]
            ],
            "type": "contour"
           }
          ],
          "contourcarpet": [
           {
            "colorbar": {
             "outlinewidth": 0,
             "ticks": ""
            },
            "type": "contourcarpet"
           }
          ],
          "heatmap": [
           {
            "colorbar": {
             "outlinewidth": 0,
             "ticks": ""
            },
            "colorscale": [
             [
              0,
              "#0d0887"
             ],
             [
              0.1111111111111111,
              "#46039f"
             ],
             [
              0.2222222222222222,
              "#7201a8"
             ],
             [
              0.3333333333333333,
              "#9c179e"
             ],
             [
              0.4444444444444444,
              "#bd3786"
             ],
             [
              0.5555555555555556,
              "#d8576b"
             ],
             [
              0.6666666666666666,
              "#ed7953"
             ],
             [
              0.7777777777777778,
              "#fb9f3a"
             ],
             [
              0.8888888888888888,
              "#fdca26"
             ],
             [
              1,
              "#f0f921"
             ]
            ],
            "type": "heatmap"
           }
          ],
          "heatmapgl": [
           {
            "colorbar": {
             "outlinewidth": 0,
             "ticks": ""
            },
            "colorscale": [
             [
              0,
              "#0d0887"
             ],
             [
              0.1111111111111111,
              "#46039f"
             ],
             [
              0.2222222222222222,
              "#7201a8"
             ],
             [
              0.3333333333333333,
              "#9c179e"
             ],
             [
              0.4444444444444444,
              "#bd3786"
             ],
             [
              0.5555555555555556,
              "#d8576b"
             ],
             [
              0.6666666666666666,
              "#ed7953"
             ],
             [
              0.7777777777777778,
              "#fb9f3a"
             ],
             [
              0.8888888888888888,
              "#fdca26"
             ],
             [
              1,
              "#f0f921"
             ]
            ],
            "type": "heatmapgl"
           }
          ],
          "histogram": [
           {
            "marker": {
             "pattern": {
              "fillmode": "overlay",
              "size": 10,
              "solidity": 0.2
             }
            },
            "type": "histogram"
           }
          ],
          "histogram2d": [
           {
            "colorbar": {
             "outlinewidth": 0,
             "ticks": ""
            },
            "colorscale": [
             [
              0,
              "#0d0887"
             ],
             [
              0.1111111111111111,
              "#46039f"
             ],
             [
              0.2222222222222222,
              "#7201a8"
             ],
             [
              0.3333333333333333,
              "#9c179e"
             ],
             [
              0.4444444444444444,
              "#bd3786"
             ],
             [
              0.5555555555555556,
              "#d8576b"
             ],
             [
              0.6666666666666666,
              "#ed7953"
             ],
             [
              0.7777777777777778,
              "#fb9f3a"
             ],
             [
              0.8888888888888888,
              "#fdca26"
             ],
             [
              1,
              "#f0f921"
             ]
            ],
            "type": "histogram2d"
           }
          ],
          "histogram2dcontour": [
           {
            "colorbar": {
             "outlinewidth": 0,
             "ticks": ""
            },
            "colorscale": [
             [
              0,
              "#0d0887"
             ],
             [
              0.1111111111111111,
              "#46039f"
             ],
             [
              0.2222222222222222,
              "#7201a8"
             ],
             [
              0.3333333333333333,
              "#9c179e"
             ],
             [
              0.4444444444444444,
              "#bd3786"
             ],
             [
              0.5555555555555556,
              "#d8576b"
             ],
             [
              0.6666666666666666,
              "#ed7953"
             ],
             [
              0.7777777777777778,
              "#fb9f3a"
             ],
             [
              0.8888888888888888,
              "#fdca26"
             ],
             [
              1,
              "#f0f921"
             ]
            ],
            "type": "histogram2dcontour"
           }
          ],
          "mesh3d": [
           {
            "colorbar": {
             "outlinewidth": 0,
             "ticks": ""
            },
            "type": "mesh3d"
           }
          ],
          "parcoords": [
           {
            "line": {
             "colorbar": {
              "outlinewidth": 0,
              "ticks": ""
             }
            },
            "type": "parcoords"
           }
          ],
          "pie": [
           {
            "automargin": true,
            "type": "pie"
           }
          ],
          "scatter": [
           {
            "fillpattern": {
             "fillmode": "overlay",
             "size": 10,
             "solidity": 0.2
            },
            "type": "scatter"
           }
          ],
          "scatter3d": [
           {
            "line": {
             "colorbar": {
              "outlinewidth": 0,
              "ticks": ""
             }
            },
            "marker": {
             "colorbar": {
              "outlinewidth": 0,
              "ticks": ""
             }
            },
            "type": "scatter3d"
           }
          ],
          "scattercarpet": [
           {
            "marker": {
             "colorbar": {
              "outlinewidth": 0,
              "ticks": ""
             }
            },
            "type": "scattercarpet"
           }
          ],
          "scattergeo": [
           {
            "marker": {
             "colorbar": {
              "outlinewidth": 0,
              "ticks": ""
             }
            },
            "type": "scattergeo"
           }
          ],
          "scattergl": [
           {
            "marker": {
             "colorbar": {
              "outlinewidth": 0,
              "ticks": ""
             }
            },
            "type": "scattergl"
           }
          ],
          "scattermapbox": [
           {
            "marker": {
             "colorbar": {
              "outlinewidth": 0,
              "ticks": ""
             }
            },
            "type": "scattermapbox"
           }
          ],
          "scatterpolar": [
           {
            "marker": {
             "colorbar": {
              "outlinewidth": 0,
              "ticks": ""
             }
            },
            "type": "scatterpolar"
           }
          ],
          "scatterpolargl": [
           {
            "marker": {
             "colorbar": {
              "outlinewidth": 0,
              "ticks": ""
             }
            },
            "type": "scatterpolargl"
           }
          ],
          "scatterternary": [
           {
            "marker": {
             "colorbar": {
              "outlinewidth": 0,
              "ticks": ""
             }
            },
            "type": "scatterternary"
           }
          ],
          "surface": [
           {
            "colorbar": {
             "outlinewidth": 0,
             "ticks": ""
            },
            "colorscale": [
             [
              0,
              "#0d0887"
             ],
             [
              0.1111111111111111,
              "#46039f"
             ],
             [
              0.2222222222222222,
              "#7201a8"
             ],
             [
              0.3333333333333333,
              "#9c179e"
             ],
             [
              0.4444444444444444,
              "#bd3786"
             ],
             [
              0.5555555555555556,
              "#d8576b"
             ],
             [
              0.6666666666666666,
              "#ed7953"
             ],
             [
              0.7777777777777778,
              "#fb9f3a"
             ],
             [
              0.8888888888888888,
              "#fdca26"
             ],
             [
              1,
              "#f0f921"
             ]
            ],
            "type": "surface"
           }
          ],
          "table": [
           {
            "cells": {
             "fill": {
              "color": "#EBF0F8"
             },
             "line": {
              "color": "white"
             }
            },
            "header": {
             "fill": {
              "color": "#C8D4E3"
             },
             "line": {
              "color": "white"
             }
            },
            "type": "table"
           }
          ]
         },
         "layout": {
          "annotationdefaults": {
           "arrowcolor": "#2a3f5f",
           "arrowhead": 0,
           "arrowwidth": 1
          },
          "autotypenumbers": "strict",
          "coloraxis": {
           "colorbar": {
            "outlinewidth": 0,
            "ticks": ""
           }
          },
          "colorscale": {
           "diverging": [
            [
             0,
             "#8e0152"
            ],
            [
             0.1,
             "#c51b7d"
            ],
            [
             0.2,
             "#de77ae"
            ],
            [
             0.3,
             "#f1b6da"
            ],
            [
             0.4,
             "#fde0ef"
            ],
            [
             0.5,
             "#f7f7f7"
            ],
            [
             0.6,
             "#e6f5d0"
            ],
            [
             0.7,
             "#b8e186"
            ],
            [
             0.8,
             "#7fbc41"
            ],
            [
             0.9,
             "#4d9221"
            ],
            [
             1,
             "#276419"
            ]
           ],
           "sequential": [
            [
             0,
             "#0d0887"
            ],
            [
             0.1111111111111111,
             "#46039f"
            ],
            [
             0.2222222222222222,
             "#7201a8"
            ],
            [
             0.3333333333333333,
             "#9c179e"
            ],
            [
             0.4444444444444444,
             "#bd3786"
            ],
            [
             0.5555555555555556,
             "#d8576b"
            ],
            [
             0.6666666666666666,
             "#ed7953"
            ],
            [
             0.7777777777777778,
             "#fb9f3a"
            ],
            [
             0.8888888888888888,
             "#fdca26"
            ],
            [
             1,
             "#f0f921"
            ]
           ],
           "sequentialminus": [
            [
             0,
             "#0d0887"
            ],
            [
             0.1111111111111111,
             "#46039f"
            ],
            [
             0.2222222222222222,
             "#7201a8"
            ],
            [
             0.3333333333333333,
             "#9c179e"
            ],
            [
             0.4444444444444444,
             "#bd3786"
            ],
            [
             0.5555555555555556,
             "#d8576b"
            ],
            [
             0.6666666666666666,
             "#ed7953"
            ],
            [
             0.7777777777777778,
             "#fb9f3a"
            ],
            [
             0.8888888888888888,
             "#fdca26"
            ],
            [
             1,
             "#f0f921"
            ]
           ]
          },
          "colorway": [
           "#636efa",
           "#EF553B",
           "#00cc96",
           "#ab63fa",
           "#FFA15A",
           "#19d3f3",
           "#FF6692",
           "#B6E880",
           "#FF97FF",
           "#FECB52"
          ],
          "font": {
           "color": "#2a3f5f"
          },
          "geo": {
           "bgcolor": "white",
           "lakecolor": "white",
           "landcolor": "#E5ECF6",
           "showlakes": true,
           "showland": true,
           "subunitcolor": "white"
          },
          "hoverlabel": {
           "align": "left"
          },
          "hovermode": "closest",
          "mapbox": {
           "style": "light"
          },
          "paper_bgcolor": "white",
          "plot_bgcolor": "#E5ECF6",
          "polar": {
           "angularaxis": {
            "gridcolor": "white",
            "linecolor": "white",
            "ticks": ""
           },
           "bgcolor": "#E5ECF6",
           "radialaxis": {
            "gridcolor": "white",
            "linecolor": "white",
            "ticks": ""
           }
          },
          "scene": {
           "xaxis": {
            "backgroundcolor": "#E5ECF6",
            "gridcolor": "white",
            "gridwidth": 2,
            "linecolor": "white",
            "showbackground": true,
            "ticks": "",
            "zerolinecolor": "white"
           },
           "yaxis": {
            "backgroundcolor": "#E5ECF6",
            "gridcolor": "white",
            "gridwidth": 2,
            "linecolor": "white",
            "showbackground": true,
            "ticks": "",
            "zerolinecolor": "white"
           },
           "zaxis": {
            "backgroundcolor": "#E5ECF6",
            "gridcolor": "white",
            "gridwidth": 2,
            "linecolor": "white",
            "showbackground": true,
            "ticks": "",
            "zerolinecolor": "white"
           }
          },
          "shapedefaults": {
           "line": {
            "color": "#2a3f5f"
           }
          },
          "ternary": {
           "aaxis": {
            "gridcolor": "white",
            "linecolor": "white",
            "ticks": ""
           },
           "baxis": {
            "gridcolor": "white",
            "linecolor": "white",
            "ticks": ""
           },
           "bgcolor": "#E5ECF6",
           "caxis": {
            "gridcolor": "white",
            "linecolor": "white",
            "ticks": ""
           }
          },
          "title": {
           "x": 0.05
          },
          "xaxis": {
           "automargin": true,
           "gridcolor": "white",
           "linecolor": "white",
           "ticks": "",
           "title": {
            "standoff": 15
           },
           "zerolinecolor": "white",
           "zerolinewidth": 2
          },
          "yaxis": {
           "automargin": true,
           "gridcolor": "white",
           "linecolor": "white",
           "ticks": "",
           "title": {
            "standoff": 15
           },
           "zerolinecolor": "white",
           "zerolinewidth": 2
          }
         }
        },
        "width": 1000
       }
      }
     },
     "metadata": {},
     "output_type": "display_data"
    }
   ],
   "source": [
    "if data_from_csv:\n",
    "    data = load_csv_data(diff_equation, data_from_csv, params_to_optimize=params_to_optimize)\n",
    "else:\n",
    "    if diff_equation.dx: # If PDE\n",
    "\n",
    "        if diff_equation.dy: # 2D\n",
    "            data = load_data_moredim(diff_equation, f, params_to_optimize=params_to_optimize, L=L, T=T, plate_length=plate_length, max_iter_time=max_iter_time)\n",
    "\n",
    "        elif bc_type == 'neumann': # Neumann BC\n",
    "            data = load_data_neumann(diff_equation, f, params_to_optimize, L_min, L, T, N_train)\n",
    "\n",
    "        else: # Dirichlet BC\n",
    "            data = load_data_pde(diff_equation, params_to_optimize=params_to_optimize, L_min=L_min, L=L, T=T, N_train=N_train, N_test=N_test, initial_conditions=initial_conditions)\n",
    "    \n",
    "    else: # If ODE\n",
    "        data = load_data_ode(diff_equation, params_to_optimize=params_to_optimize, initial_conditions=initial_conditions, t_0=t_0, t_fin=t_fin, n_points=n_points, noise=noise)\n"
   ]
  },
  {
   "cell_type": "markdown",
   "metadata": {},
   "source": [
    "## Training"
   ]
  },
  {
   "cell_type": "code",
   "execution_count": 189,
   "metadata": {},
   "outputs": [],
   "source": [
    "\n",
    "torch.manual_seed(42)\n",
    "# Inicializar los modelos y el optimizador\n",
    "pinn_inf_model = PINN_inference(params=params_to_optimize, input_size=data[2].shape[1], hidden_layers=layers, activation=activations, bc_type=bc_type, data_from_csv=data_from_csv).to(DEVICE)\n",
    "# pinn_inf_model = PINN_inference(params=params_to_optimize, input_size=data[2].shape[1], hidden_layers=layers, activation=activations, bc_type=bc_type).to(DEVICE)\n"
   ]
  },
  {
   "cell_type": "code",
   "execution_count": 190,
   "metadata": {},
   "outputs": [
    {
     "name": "stdout",
     "output_type": "stream",
     "text": [
      "Using LBFGS\n",
      "Epoch: 0, Loss: 3.08904767036438, MSE Loss: 0.19840282201766968, Physics Loss: 0.3574623167514801, Validation Loss: 0.12146717309951782 Boundary Loss:2.2073214054107666\n",
      "Epoch: 50, Loss: 5.117450200486928e-05, MSE Loss: 2.85576021497036e-07, Physics Loss: 3.601267235353589e-05, Validation Loss: 1.3978591368868365e-06 Boundary Loss:1.4546449165209197e-05\n",
      "Epoch: 100, Loss: 1.1688883205351885e-05, MSE Loss: 4.944149623042904e-08, Physics Loss: 1.0035025297838729e-05, Validation Loss: 9.987911653297488e-07 Boundary Loss:1.5507559965044493e-06\n",
      "Epoch: 150, Loss: 6.297058462223504e-06, MSE Loss: 8.571380050170774e-08, Physics Loss: 4.353691565484041e-06, Validation Loss: 2.804860628202732e-07 Boundary Loss:1.771938741512713e-06\n",
      "Epoch: 200, Loss: 6.255614152905764e-06, MSE Loss: 8.189164901750701e-08, Physics Loss: 4.307595190766733e-06, Validation Loss: 2.6989732759830076e-07 Boundary Loss:1.7842354509411962e-06\n",
      "Epoch: 250, Loss: 6.229063728824258e-06, MSE Loss: 7.899934928445873e-08, Physics Loss: 4.277103471395094e-06, Validation Loss: 2.616037022562523e-07 Boundary Loss:1.793961928342469e-06\n",
      "Epoch: 300, Loss: 6.207403203006834e-06, MSE Loss: 7.6341443389083e-08, Physics Loss: 4.252210146660218e-06, Validation Loss: 2.5417244842174114e-07 Boundary Loss:1.8025097006102442e-06\n",
      "Epoch: 350, Loss: 6.190480689838296e-06, MSE Loss: 7.423366810144216e-08, Physics Loss: 4.23306119046174e-06, Validation Loss: 2.4847290092111507e-07 Boundary Loss:1.8089516515829018e-06\n",
      "Epoch: 400, Loss: 6.176762326504104e-06, MSE Loss: 7.259465206743698e-08, Physics Loss: 4.21758932134253e-06, Validation Loss: 2.437276691580337e-07 Boundary Loss:1.8139837720809737e-06\n",
      "Epoch: 450, Loss: 6.1650798670598306e-06, MSE Loss: 7.09529217601812e-08, Physics Loss: 4.2041006054205354e-06, Validation Loss: 2.3937911919347243e-07 Boundary Loss:1.819073304432095e-06\n"
     ]
    },
    {
     "data": {
      "application/vnd.plotly.v1+json": {
       "config": {
        "plotlyServerURL": "https://plot.ly"
       },
       "data": [
        {
         "marker": {
          "color": "blue",
          "opacity": 0.5,
          "size": 4
         },
         "mode": "markers",
         "name": "test Data",
         "type": "scatter3d",
         "x": [
          -1,
          -0.7777777910232544,
          -0.5555555820465088,
          -0.3333333432674408,
          -0.1111111119389534,
          0.1111111119389534,
          0.3333333432674408,
          0.5555555820465088,
          0.7777777910232544,
          1,
          -1,
          -0.7777777910232544,
          -0.5555555820465088,
          -0.3333333432674408,
          -0.1111111119389534,
          0.1111111119389534,
          0.3333333432674408,
          0.5555555820465088,
          0.7777777910232544,
          1,
          -1,
          -0.7777777910232544,
          -0.5555555820465088,
          -0.3333333432674408,
          -0.1111111119389534,
          0.1111111119389534,
          0.3333333432674408,
          0.5555555820465088,
          0.7777777910232544,
          1,
          -1,
          -0.7777777910232544,
          -0.5555555820465088,
          -0.3333333432674408,
          -0.1111111119389534,
          0.1111111119389534,
          0.3333333432674408,
          0.5555555820465088,
          0.7777777910232544,
          1,
          -1,
          -0.7777777910232544,
          -0.5555555820465088,
          -0.3333333432674408,
          -0.1111111119389534,
          0.1111111119389534,
          0.3333333432674408,
          0.5555555820465088,
          0.7777777910232544,
          1,
          -1,
          -0.7777777910232544,
          -0.5555555820465088,
          -0.3333333432674408,
          -0.1111111119389534,
          0.1111111119389534,
          0.3333333432674408,
          0.5555555820465088,
          0.7777777910232544,
          1,
          -1,
          -0.7777777910232544,
          -0.5555555820465088,
          -0.3333333432674408,
          -0.1111111119389534,
          0.1111111119389534,
          0.3333333432674408,
          0.5555555820465088,
          0.7777777910232544,
          1,
          -1,
          -0.7777777910232544,
          -0.5555555820465088,
          -0.3333333432674408,
          -0.1111111119389534,
          0.1111111119389534,
          0.3333333432674408,
          0.5555555820465088,
          0.7777777910232544,
          1,
          -1,
          -0.7777777910232544,
          -0.5555555820465088,
          -0.3333333432674408,
          -0.1111111119389534,
          0.1111111119389534,
          0.3333333432674408,
          0.5555555820465088,
          0.7777777910232544,
          1,
          -1,
          -0.7777777910232544,
          -0.5555555820465088,
          -0.3333333432674408,
          -0.1111111119389534,
          0.1111111119389534,
          0.3333333432674408,
          0.5555555820465088,
          0.7777777910232544,
          1
         ],
         "y": [
          0,
          0,
          0,
          0,
          0,
          0,
          0,
          0,
          0,
          0,
          0.1111111119389534,
          0.1111111119389534,
          0.1111111119389534,
          0.1111111119389534,
          0.1111111119389534,
          0.1111111119389534,
          0.1111111119389534,
          0.1111111119389534,
          0.1111111119389534,
          0.1111111119389534,
          0.2222222238779068,
          0.2222222238779068,
          0.2222222238779068,
          0.2222222238779068,
          0.2222222238779068,
          0.2222222238779068,
          0.2222222238779068,
          0.2222222238779068,
          0.2222222238779068,
          0.2222222238779068,
          0.3333333432674408,
          0.3333333432674408,
          0.3333333432674408,
          0.3333333432674408,
          0.3333333432674408,
          0.3333333432674408,
          0.3333333432674408,
          0.3333333432674408,
          0.3333333432674408,
          0.3333333432674408,
          0.4444444477558136,
          0.4444444477558136,
          0.4444444477558136,
          0.4444444477558136,
          0.4444444477558136,
          0.4444444477558136,
          0.4444444477558136,
          0.4444444477558136,
          0.4444444477558136,
          0.4444444477558136,
          0.5555555820465088,
          0.5555555820465088,
          0.5555555820465088,
          0.5555555820465088,
          0.5555555820465088,
          0.5555555820465088,
          0.5555555820465088,
          0.5555555820465088,
          0.5555555820465088,
          0.5555555820465088,
          0.6666666865348816,
          0.6666666865348816,
          0.6666666865348816,
          0.6666666865348816,
          0.6666666865348816,
          0.6666666865348816,
          0.6666666865348816,
          0.6666666865348816,
          0.6666666865348816,
          0.6666666865348816,
          0.7777777910232544,
          0.7777777910232544,
          0.7777777910232544,
          0.7777777910232544,
          0.7777777910232544,
          0.7777777910232544,
          0.7777777910232544,
          0.7777777910232544,
          0.7777777910232544,
          0.7777777910232544,
          0.8888888955116272,
          0.8888888955116272,
          0.8888888955116272,
          0.8888888955116272,
          0.8888888955116272,
          0.8888888955116272,
          0.8888888955116272,
          0.8888888955116272,
          0.8888888955116272,
          0.8888888955116272,
          1,
          1,
          1,
          1,
          1,
          1,
          1,
          1,
          1,
          1
         ],
         "z": [
          -1,
          -0.7777777910232544,
          -0.5555555820465088,
          -0.3333333432674408,
          -0.1111111119389534,
          0.1111111119389534,
          0.3333333432674408,
          0.5555555820465088,
          0.7777777910232544,
          1,
          -0.9938334822654724,
          -0.772981584072113,
          -0.5521297454833984,
          -0.33127784729003906,
          -0.11042594164609909,
          0.11042594164609909,
          0.33127784729003906,
          0.5521297454833984,
          0.772981584072113,
          0.9938334822654724,
          -0.9754101037979126,
          -0.7586523294448853,
          -0.5418945550918579,
          -0.3251367211341858,
          -0.10837890207767487,
          0.10837890207767487,
          0.3251367211341858,
          0.5418945550918579,
          0.7586523294448853,
          0.9754101037979126,
          -0.9449569582939148,
          -0.734966516494751,
          -0.5249761343002319,
          -0.3149856626987457,
          -0.10499522089958191,
          0.10499522089958191,
          0.3149856626987457,
          0.5249761343002319,
          0.734966516494751,
          0.9449569582939148,
          -0.9028496742248535,
          -0.7022164463996887,
          -0.5015831589698792,
          -0.30094990134239197,
          -0.10031662881374359,
          0.10031662881374359,
          0.30094990134239197,
          0.5015831589698792,
          0.7022164463996887,
          0.9028496742248535,
          -0.849607527256012,
          -0.660805881023407,
          -0.4720042049884796,
          -0.28320252895355225,
          -0.09440083801746368,
          0.09440083801746368,
          0.28320252895355225,
          0.4720042049884796,
          0.660805881023407,
          0.849607527256012,
          -0.7858872413635254,
          -0.6112456321716309,
          -0.4366040527820587,
          -0.2619624137878418,
          -0.08732080459594727,
          0.08732080459594727,
          0.2619624137878418,
          0.4366040527820587,
          0.6112456321716309,
          0.7858872413635254,
          -0.7124745845794678,
          -0.5541468858718872,
          -0.3958192467689514,
          -0.23749153316020966,
          -0.07916384190320969,
          0.07916384190320969,
          0.23749153316020966,
          0.3958192467689514,
          0.5541468858718872,
          0.7124745845794678,
          -0.6302750706672668,
          -0.49021396040916443,
          -0.3501528203487396,
          -0.210091695189476,
          -0.0700305625796318,
          0.0700305625796318,
          0.210091695189476,
          0.3501528203487396,
          0.49021396040916443,
          0.6302750706672668,
          -0.5403023362159729,
          -0.42023515701293945,
          -0.300167977809906,
          -0.18010078370571136,
          -0.06003359332680702,
          0.06003359332680702,
          0.18010078370571136,
          0.300167977809906,
          0.42023515701293945,
          0.5403023362159729
         ]
        },
        {
         "marker": {
          "color": "red",
          "opacity": 0.35,
          "size": 2
         },
         "mode": "markers",
         "name": "Test Data",
         "type": "scatter3d",
         "x": [
          -1,
          -0.7777777910232544,
          -0.5555555820465088,
          -0.3333333432674408,
          -0.1111111119389534,
          0.1111111119389534,
          0.3333333432674408,
          0.5555555820465088,
          0.7777777910232544,
          1,
          -1,
          -0.7777777910232544,
          -0.5555555820465088,
          -0.3333333432674408,
          -0.1111111119389534,
          0.1111111119389534,
          0.3333333432674408,
          0.5555555820465088,
          0.7777777910232544,
          1,
          -1,
          -0.7777777910232544,
          -0.5555555820465088,
          -0.3333333432674408,
          -0.1111111119389534,
          0.1111111119389534,
          0.3333333432674408,
          0.5555555820465088,
          0.7777777910232544,
          1,
          -1,
          -0.7777777910232544,
          -0.5555555820465088,
          -0.3333333432674408,
          -0.1111111119389534,
          0.1111111119389534,
          0.3333333432674408,
          0.5555555820465088,
          0.7777777910232544,
          1,
          -1,
          -0.7777777910232544,
          -0.5555555820465088,
          -0.3333333432674408,
          -0.1111111119389534,
          0.1111111119389534,
          0.3333333432674408,
          0.5555555820465088,
          0.7777777910232544,
          1,
          -1,
          -0.7777777910232544,
          -0.5555555820465088,
          -0.3333333432674408,
          -0.1111111119389534,
          0.1111111119389534,
          0.3333333432674408,
          0.5555555820465088,
          0.7777777910232544,
          1,
          -1,
          -0.7777777910232544,
          -0.5555555820465088,
          -0.3333333432674408,
          -0.1111111119389534,
          0.1111111119389534,
          0.3333333432674408,
          0.5555555820465088,
          0.7777777910232544,
          1,
          -1,
          -0.7777777910232544,
          -0.5555555820465088,
          -0.3333333432674408,
          -0.1111111119389534,
          0.1111111119389534,
          0.3333333432674408,
          0.5555555820465088,
          0.7777777910232544,
          1,
          -1,
          -0.7777777910232544,
          -0.5555555820465088,
          -0.3333333432674408,
          -0.1111111119389534,
          0.1111111119389534,
          0.3333333432674408,
          0.5555555820465088,
          0.7777777910232544,
          1,
          -1,
          -0.7777777910232544,
          -0.5555555820465088,
          -0.3333333432674408,
          -0.1111111119389534,
          0.1111111119389534,
          0.3333333432674408,
          0.5555555820465088,
          0.7777777910232544,
          1
         ],
         "y": [
          0,
          0,
          0,
          0,
          0,
          0,
          0,
          0,
          0,
          0,
          0.1111111119389534,
          0.1111111119389534,
          0.1111111119389534,
          0.1111111119389534,
          0.1111111119389534,
          0.1111111119389534,
          0.1111111119389534,
          0.1111111119389534,
          0.1111111119389534,
          0.1111111119389534,
          0.2222222238779068,
          0.2222222238779068,
          0.2222222238779068,
          0.2222222238779068,
          0.2222222238779068,
          0.2222222238779068,
          0.2222222238779068,
          0.2222222238779068,
          0.2222222238779068,
          0.2222222238779068,
          0.3333333432674408,
          0.3333333432674408,
          0.3333333432674408,
          0.3333333432674408,
          0.3333333432674408,
          0.3333333432674408,
          0.3333333432674408,
          0.3333333432674408,
          0.3333333432674408,
          0.3333333432674408,
          0.4444444477558136,
          0.4444444477558136,
          0.4444444477558136,
          0.4444444477558136,
          0.4444444477558136,
          0.4444444477558136,
          0.4444444477558136,
          0.4444444477558136,
          0.4444444477558136,
          0.4444444477558136,
          0.5555555820465088,
          0.5555555820465088,
          0.5555555820465088,
          0.5555555820465088,
          0.5555555820465088,
          0.5555555820465088,
          0.5555555820465088,
          0.5555555820465088,
          0.5555555820465088,
          0.5555555820465088,
          0.6666666865348816,
          0.6666666865348816,
          0.6666666865348816,
          0.6666666865348816,
          0.6666666865348816,
          0.6666666865348816,
          0.6666666865348816,
          0.6666666865348816,
          0.6666666865348816,
          0.6666666865348816,
          0.7777777910232544,
          0.7777777910232544,
          0.7777777910232544,
          0.7777777910232544,
          0.7777777910232544,
          0.7777777910232544,
          0.7777777910232544,
          0.7777777910232544,
          0.7777777910232544,
          0.7777777910232544,
          0.8888888955116272,
          0.8888888955116272,
          0.8888888955116272,
          0.8888888955116272,
          0.8888888955116272,
          0.8888888955116272,
          0.8888888955116272,
          0.8888888955116272,
          0.8888888955116272,
          0.8888888955116272,
          1,
          1,
          1,
          1,
          1,
          1,
          1,
          1,
          1,
          1
         ],
         "z": [
          -0.9997406005859375,
          -0.777464747428894,
          -0.5552974939346313,
          -0.33321070671081543,
          -0.11116504669189453,
          0.11088639497756958,
          0.33298778533935547,
          0.5551725625991821,
          0.7774595022201538,
          0.9998434782028198,
          -0.9936141967773438,
          -0.7726950645446777,
          -0.5519106388092041,
          -0.3312208652496338,
          -0.11057591438293457,
          0.11007809638977051,
          0.330793559551239,
          0.5516136884689331,
          0.7725692987442017,
          0.9936717748641968,
          -0.9752254486083984,
          -0.7583966255187988,
          -0.5417001247406006,
          -0.3251028060913086,
          -0.10856413841247559,
          0.107962965965271,
          0.3245251774787903,
          0.5411620140075684,
          0.7579084038734436,
          0.9747837781906128,
          -0.9447393417358398,
          -0.7346638441085815,
          -0.5247008800506592,
          -0.31483232975006104,
          -0.10503005981445312,
          0.10473811626434326,
          0.3145054578781128,
          0.5243053436279297,
          0.7341635227203369,
          0.944098711013794,
          -0.9025830030441284,
          -0.7018898725509644,
          -0.5012720823287964,
          -0.3007194995880127,
          -0.10021615028381348,
          0.10025715827941895,
          0.30071866512298584,
          0.5011857748031616,
          0.7016711235046387,
          0.9021782875061035,
          -0.8493117094039917,
          -0.6605422496795654,
          -0.47179925441741943,
          -0.2830721139907837,
          -0.09435033798217773,
          0.0943756103515625,
          0.2831106185913086,
          0.4718564748764038,
          0.6606056690216064,
          0.8493458032608032,
          -0.785494327545166,
          -0.6110039949417114,
          -0.4365130662918091,
          -0.2620002031326294,
          -0.0874490737915039,
          0.08714747428894043,
          0.261791467666626,
          0.4364742040634155,
          0.6111792325973511,
          0.7858818769454956,
          -0.7117953300476074,
          -0.5536676645278931,
          -0.3955826759338379,
          -0.23749518394470215,
          -0.07937180995941162,
          0.07881307601928711,
          0.23707222938537598,
          0.39540982246398926,
          0.5538183450698853,
          0.7122849225997925,
          -0.6292556524276733,
          -0.4892350435256958,
          -0.349409818649292,
          -0.20969903469085693,
          -0.0700300931930542,
          0.06966102123260498,
          0.209425687789917,
          0.34930717945098877,
          0.489337682723999,
          0.6295449733734131,
          -0.5395855903625488,
          -0.41902077198028564,
          -0.29892075061798096,
          -0.17915260791778564,
          -0.0595860481262207,
          0.05990254878997803,
          0.17943322658538818,
          0.2991154193878174,
          0.4190518856048584,
          0.5393397808074951
         ]
        },
        {
         "colorscale": [
          [
           0,
           "rgb(247,251,255)"
          ],
          [
           0.125,
           "rgb(222,235,247)"
          ],
          [
           0.25,
           "rgb(198,219,239)"
          ],
          [
           0.375,
           "rgb(158,202,225)"
          ],
          [
           0.5,
           "rgb(107,174,214)"
          ],
          [
           0.625,
           "rgb(66,146,198)"
          ],
          [
           0.75,
           "rgb(33,113,181)"
          ],
          [
           0.875,
           "rgb(8,81,156)"
          ],
          [
           1,
           "rgb(8,48,107)"
          ]
         ],
         "name": "True Function",
         "opacity": 0.5,
         "showscale": false,
         "type": "surface",
         "x": [
          -1,
          -0.7777777777777778,
          -0.5555555555555556,
          -0.33333333333333337,
          -0.11111111111111116,
          0.11111111111111116,
          0.33333333333333326,
          0.5555555555555554,
          0.7777777777777777,
          1
         ],
         "y": [
          0,
          0.1111111111111111,
          0.2222222222222222,
          0.3333333333333333,
          0.4444444444444444,
          0.5555555555555556,
          0.6666666666666666,
          0.7777777777777777,
          0.8888888888888888,
          1
         ],
         "z": [
          [
           -0.9997406005859375,
           -0.777464747428894,
           -0.5552974939346313,
           -0.33321070671081543,
           -0.11116504669189453,
           0.11088639497756958,
           0.33298778533935547,
           0.5551725625991821,
           0.7774595022201538,
           0.9998434782028198
          ],
          [
           -0.9936141967773438,
           -0.7726950645446777,
           -0.5519106388092041,
           -0.3312208652496338,
           -0.11057591438293457,
           0.11007809638977051,
           0.330793559551239,
           0.5516136884689331,
           0.7725692987442017,
           0.9936717748641968
          ],
          [
           -0.9752254486083984,
           -0.7583966255187988,
           -0.5417001247406006,
           -0.3251028060913086,
           -0.10856413841247559,
           0.107962965965271,
           0.3245251774787903,
           0.5411620140075684,
           0.7579084038734436,
           0.9747837781906128
          ],
          [
           -0.9447393417358398,
           -0.7346638441085815,
           -0.5247008800506592,
           -0.31483232975006104,
           -0.10503005981445312,
           0.10473811626434326,
           0.3145054578781128,
           0.5243053436279297,
           0.7341635227203369,
           0.944098711013794
          ],
          [
           -0.9025830030441284,
           -0.7018898725509644,
           -0.5012720823287964,
           -0.3007194995880127,
           -0.10021615028381348,
           0.10025715827941895,
           0.30071866512298584,
           0.5011857748031616,
           0.7016711235046387,
           0.9021782875061035
          ],
          [
           -0.8493117094039917,
           -0.6605422496795654,
           -0.47179925441741943,
           -0.2830721139907837,
           -0.09435033798217773,
           0.0943756103515625,
           0.2831106185913086,
           0.4718564748764038,
           0.6606056690216064,
           0.8493458032608032
          ],
          [
           -0.785494327545166,
           -0.6110039949417114,
           -0.4365130662918091,
           -0.2620002031326294,
           -0.0874490737915039,
           0.08714747428894043,
           0.261791467666626,
           0.4364742040634155,
           0.6111792325973511,
           0.7858818769454956
          ],
          [
           -0.7117953300476074,
           -0.5536676645278931,
           -0.3955826759338379,
           -0.23749518394470215,
           -0.07937180995941162,
           0.07881307601928711,
           0.23707222938537598,
           0.39540982246398926,
           0.5538183450698853,
           0.7122849225997925
          ],
          [
           -0.6292556524276733,
           -0.4892350435256958,
           -0.349409818649292,
           -0.20969903469085693,
           -0.0700300931930542,
           0.06966102123260498,
           0.209425687789917,
           0.34930717945098877,
           0.489337682723999,
           0.6295449733734131
          ],
          [
           -0.5395855903625488,
           -0.41902077198028564,
           -0.29892075061798096,
           -0.17915260791778564,
           -0.0595860481262207,
           0.05990254878997803,
           0.17943322658538818,
           0.2991154193878174,
           0.4190518856048584,
           0.5393397808074951
          ]
         ]
        },
        {
         "colorscale": [
          [
           0,
           "rgb(247,251,255)"
          ],
          [
           0.125,
           "rgb(222,235,247)"
          ],
          [
           0.25,
           "rgb(198,219,239)"
          ],
          [
           0.375,
           "rgb(158,202,225)"
          ],
          [
           0.5,
           "rgb(107,174,214)"
          ],
          [
           0.625,
           "rgb(66,146,198)"
          ],
          [
           0.75,
           "rgb(33,113,181)"
          ],
          [
           0.875,
           "rgb(8,81,156)"
          ],
          [
           1,
           "rgb(8,48,107)"
          ]
         ],
         "name": "True Function",
         "opacity": 0.5,
         "showscale": false,
         "type": "surface",
         "x": [
          -1,
          -0.7777777777777778,
          -0.5555555555555556,
          -0.33333333333333337,
          -0.11111111111111116,
          0.11111111111111116,
          0.33333333333333326,
          0.5555555555555554,
          0.7777777777777777,
          1
         ],
         "y": [
          0,
          0.1111111111111111,
          0.2222222222222222,
          0.3333333333333333,
          0.4444444444444444,
          0.5555555555555556,
          0.6666666666666666,
          0.7777777777777777,
          0.8888888888888888,
          1
         ],
         "z": [
          [
           -0.9997406005859375,
           -0.777464747428894,
           -0.5552974939346313,
           -0.33321070671081543,
           -0.11116504669189453,
           0.11088639497756958,
           0.33298778533935547,
           0.5551725625991821,
           0.7774595022201538,
           0.9998434782028198
          ],
          [
           -0.9936141967773438,
           -0.7726950645446777,
           -0.5519106388092041,
           -0.3312208652496338,
           -0.11057591438293457,
           0.11007809638977051,
           0.330793559551239,
           0.5516136884689331,
           0.7725692987442017,
           0.9936717748641968
          ],
          [
           -0.9752254486083984,
           -0.7583966255187988,
           -0.5417001247406006,
           -0.3251028060913086,
           -0.10856413841247559,
           0.107962965965271,
           0.3245251774787903,
           0.5411620140075684,
           0.7579084038734436,
           0.9747837781906128
          ],
          [
           -0.9447393417358398,
           -0.7346638441085815,
           -0.5247008800506592,
           -0.31483232975006104,
           -0.10503005981445312,
           0.10473811626434326,
           0.3145054578781128,
           0.5243053436279297,
           0.7341635227203369,
           0.944098711013794
          ],
          [
           -0.9025830030441284,
           -0.7018898725509644,
           -0.5012720823287964,
           -0.3007194995880127,
           -0.10021615028381348,
           0.10025715827941895,
           0.30071866512298584,
           0.5011857748031616,
           0.7016711235046387,
           0.9021782875061035
          ],
          [
           -0.8493117094039917,
           -0.6605422496795654,
           -0.47179925441741943,
           -0.2830721139907837,
           -0.09435033798217773,
           0.0943756103515625,
           0.2831106185913086,
           0.4718564748764038,
           0.6606056690216064,
           0.8493458032608032
          ],
          [
           -0.785494327545166,
           -0.6110039949417114,
           -0.4365130662918091,
           -0.2620002031326294,
           -0.0874490737915039,
           0.08714747428894043,
           0.261791467666626,
           0.4364742040634155,
           0.6111792325973511,
           0.7858818769454956
          ],
          [
           -0.7117953300476074,
           -0.5536676645278931,
           -0.3955826759338379,
           -0.23749518394470215,
           -0.07937180995941162,
           0.07881307601928711,
           0.23707222938537598,
           0.39540982246398926,
           0.5538183450698853,
           0.7122849225997925
          ],
          [
           -0.6292556524276733,
           -0.4892350435256958,
           -0.349409818649292,
           -0.20969903469085693,
           -0.0700300931930542,
           0.06966102123260498,
           0.209425687789917,
           0.34930717945098877,
           0.489337682723999,
           0.6295449733734131
          ],
          [
           -0.5395855903625488,
           -0.41902077198028564,
           -0.29892075061798096,
           -0.17915260791778564,
           -0.0595860481262207,
           0.05990254878997803,
           0.17943322658538818,
           0.2991154193878174,
           0.4190518856048584,
           0.5393397808074951
          ]
         ]
        },
        {
         "marker": {
          "color": "red",
          "opacity": 0.9,
          "size": 4
         },
         "mode": "markers",
         "name": "Test Data",
         "type": "scatter3d",
         "x": [
          [
           -1,
           -0.7777777910232544,
           -0.5555555820465088,
           -0.3333333432674408,
           -0.1111111119389534,
           0.1111111119389534,
           0.3333333432674408,
           0.5555555820465088,
           0.7777777910232544,
           1,
           -1,
           -0.7777777910232544,
           -0.5555555820465088,
           -0.3333333432674408,
           -0.1111111119389534,
           0.1111111119389534,
           0.3333333432674408,
           0.5555555820465088,
           0.7777777910232544,
           1,
           -1,
           -0.7777777910232544,
           -0.5555555820465088,
           -0.3333333432674408,
           -0.1111111119389534,
           0.1111111119389534,
           0.3333333432674408,
           0.5555555820465088,
           0.7777777910232544,
           1,
           -1,
           -0.7777777910232544,
           -0.5555555820465088,
           -0.3333333432674408,
           -0.1111111119389534,
           0.1111111119389534,
           0.3333333432674408,
           0.5555555820465088,
           0.7777777910232544,
           1,
           -1,
           -0.7777777910232544,
           -0.5555555820465088,
           -0.3333333432674408,
           -0.1111111119389534,
           0.1111111119389534,
           0.3333333432674408,
           0.5555555820465088,
           0.7777777910232544,
           1,
           -1,
           -0.7777777910232544,
           -0.5555555820465088,
           -0.3333333432674408,
           -0.1111111119389534,
           0.1111111119389534,
           0.3333333432674408,
           0.5555555820465088,
           0.7777777910232544,
           1,
           -1,
           -0.7777777910232544,
           -0.5555555820465088,
           -0.3333333432674408,
           -0.1111111119389534,
           0.1111111119389534,
           0.3333333432674408,
           0.5555555820465088,
           0.7777777910232544,
           1,
           -1,
           -0.7777777910232544,
           -0.5555555820465088,
           -0.3333333432674408,
           -0.1111111119389534,
           0.1111111119389534,
           0.3333333432674408,
           0.5555555820465088,
           0.7777777910232544,
           1,
           -1,
           -0.7777777910232544,
           -0.5555555820465088,
           -0.3333333432674408,
           -0.1111111119389534,
           0.1111111119389534,
           0.3333333432674408,
           0.5555555820465088,
           0.7777777910232544,
           1,
           -1,
           -0.7777777910232544,
           -0.5555555820465088,
           -0.3333333432674408,
           -0.1111111119389534,
           0.1111111119389534,
           0.3333333432674408,
           0.5555555820465088,
           0.7777777910232544,
           1
          ]
         ],
         "y": [
          [
           0,
           0,
           0,
           0,
           0,
           0,
           0,
           0,
           0,
           0,
           0.1111111119389534,
           0.1111111119389534,
           0.1111111119389534,
           0.1111111119389534,
           0.1111111119389534,
           0.1111111119389534,
           0.1111111119389534,
           0.1111111119389534,
           0.1111111119389534,
           0.1111111119389534,
           0.2222222238779068,
           0.2222222238779068,
           0.2222222238779068,
           0.2222222238779068,
           0.2222222238779068,
           0.2222222238779068,
           0.2222222238779068,
           0.2222222238779068,
           0.2222222238779068,
           0.2222222238779068,
           0.3333333432674408,
           0.3333333432674408,
           0.3333333432674408,
           0.3333333432674408,
           0.3333333432674408,
           0.3333333432674408,
           0.3333333432674408,
           0.3333333432674408,
           0.3333333432674408,
           0.3333333432674408,
           0.4444444477558136,
           0.4444444477558136,
           0.4444444477558136,
           0.4444444477558136,
           0.4444444477558136,
           0.4444444477558136,
           0.4444444477558136,
           0.4444444477558136,
           0.4444444477558136,
           0.4444444477558136,
           0.5555555820465088,
           0.5555555820465088,
           0.5555555820465088,
           0.5555555820465088,
           0.5555555820465088,
           0.5555555820465088,
           0.5555555820465088,
           0.5555555820465088,
           0.5555555820465088,
           0.5555555820465088,
           0.6666666865348816,
           0.6666666865348816,
           0.6666666865348816,
           0.6666666865348816,
           0.6666666865348816,
           0.6666666865348816,
           0.6666666865348816,
           0.6666666865348816,
           0.6666666865348816,
           0.6666666865348816,
           0.7777777910232544,
           0.7777777910232544,
           0.7777777910232544,
           0.7777777910232544,
           0.7777777910232544,
           0.7777777910232544,
           0.7777777910232544,
           0.7777777910232544,
           0.7777777910232544,
           0.7777777910232544,
           0.8888888955116272,
           0.8888888955116272,
           0.8888888955116272,
           0.8888888955116272,
           0.8888888955116272,
           0.8888888955116272,
           0.8888888955116272,
           0.8888888955116272,
           0.8888888955116272,
           0.8888888955116272,
           1,
           1,
           1,
           1,
           1,
           1,
           1,
           1,
           1,
           1
          ]
         ],
         "z": [
          [
           -0.9997406005859375,
           -0.777464747428894,
           -0.5552974939346313,
           -0.33321070671081543,
           -0.11116504669189453,
           0.11088639497756958,
           0.33298778533935547,
           0.5551725625991821,
           0.7774595022201538,
           0.9998434782028198,
           -0.9936141967773438,
           -0.7726950645446777,
           -0.5519106388092041,
           -0.3312208652496338,
           -0.11057591438293457,
           0.11007809638977051,
           0.330793559551239,
           0.5516136884689331,
           0.7725692987442017,
           0.9936717748641968,
           -0.9752254486083984,
           -0.7583966255187988,
           -0.5417001247406006,
           -0.3251028060913086,
           -0.10856413841247559,
           0.107962965965271,
           0.3245251774787903,
           0.5411620140075684,
           0.7579084038734436,
           0.9747837781906128,
           -0.9447393417358398,
           -0.7346638441085815,
           -0.5247008800506592,
           -0.31483232975006104,
           -0.10503005981445312,
           0.10473811626434326,
           0.3145054578781128,
           0.5243053436279297,
           0.7341635227203369,
           0.944098711013794,
           -0.9025830030441284,
           -0.7018898725509644,
           -0.5012720823287964,
           -0.3007194995880127,
           -0.10021615028381348,
           0.10025715827941895,
           0.30071866512298584,
           0.5011857748031616,
           0.7016711235046387,
           0.9021782875061035,
           -0.8493117094039917,
           -0.6605422496795654,
           -0.47179925441741943,
           -0.2830721139907837,
           -0.09435033798217773,
           0.0943756103515625,
           0.2831106185913086,
           0.4718564748764038,
           0.6606056690216064,
           0.8493458032608032,
           -0.785494327545166,
           -0.6110039949417114,
           -0.4365130662918091,
           -0.2620002031326294,
           -0.0874490737915039,
           0.08714747428894043,
           0.261791467666626,
           0.4364742040634155,
           0.6111792325973511,
           0.7858818769454956,
           -0.7117953300476074,
           -0.5536676645278931,
           -0.3955826759338379,
           -0.23749518394470215,
           -0.07937180995941162,
           0.07881307601928711,
           0.23707222938537598,
           0.39540982246398926,
           0.5538183450698853,
           0.7122849225997925,
           -0.6292556524276733,
           -0.4892350435256958,
           -0.349409818649292,
           -0.20969903469085693,
           -0.0700300931930542,
           0.06966102123260498,
           0.209425687789917,
           0.34930717945098877,
           0.489337682723999,
           0.6295449733734131,
           -0.5395855903625488,
           -0.41902077198028564,
           -0.29892075061798096,
           -0.17915260791778564,
           -0.0595860481262207,
           0.05990254878997803,
           0.17943322658538818,
           0.2991154193878174,
           0.4190518856048584,
           0.5393397808074951
          ]
         ]
        },
        {
         "marker": {
          "color": "red",
          "opacity": 0.9,
          "size": 4
         },
         "mode": "markers",
         "name": "Test Data",
         "type": "scatter3d",
         "x": [
          [
           -1,
           -0.7777777910232544,
           -0.5555555820465088,
           -0.3333333432674408,
           -0.1111111119389534,
           0.1111111119389534,
           0.3333333432674408,
           0.5555555820465088,
           0.7777777910232544,
           1,
           -1,
           -0.7777777910232544,
           -0.5555555820465088,
           -0.3333333432674408,
           -0.1111111119389534,
           0.1111111119389534,
           0.3333333432674408,
           0.5555555820465088,
           0.7777777910232544,
           1,
           -1,
           -0.7777777910232544,
           -0.5555555820465088,
           -0.3333333432674408,
           -0.1111111119389534,
           0.1111111119389534,
           0.3333333432674408,
           0.5555555820465088,
           0.7777777910232544,
           1,
           -1,
           -0.7777777910232544,
           -0.5555555820465088,
           -0.3333333432674408,
           -0.1111111119389534,
           0.1111111119389534,
           0.3333333432674408,
           0.5555555820465088,
           0.7777777910232544,
           1,
           -1,
           -0.7777777910232544,
           -0.5555555820465088,
           -0.3333333432674408,
           -0.1111111119389534,
           0.1111111119389534,
           0.3333333432674408,
           0.5555555820465088,
           0.7777777910232544,
           1,
           -1,
           -0.7777777910232544,
           -0.5555555820465088,
           -0.3333333432674408,
           -0.1111111119389534,
           0.1111111119389534,
           0.3333333432674408,
           0.5555555820465088,
           0.7777777910232544,
           1,
           -1,
           -0.7777777910232544,
           -0.5555555820465088,
           -0.3333333432674408,
           -0.1111111119389534,
           0.1111111119389534,
           0.3333333432674408,
           0.5555555820465088,
           0.7777777910232544,
           1,
           -1,
           -0.7777777910232544,
           -0.5555555820465088,
           -0.3333333432674408,
           -0.1111111119389534,
           0.1111111119389534,
           0.3333333432674408,
           0.5555555820465088,
           0.7777777910232544,
           1,
           -1,
           -0.7777777910232544,
           -0.5555555820465088,
           -0.3333333432674408,
           -0.1111111119389534,
           0.1111111119389534,
           0.3333333432674408,
           0.5555555820465088,
           0.7777777910232544,
           1,
           -1,
           -0.7777777910232544,
           -0.5555555820465088,
           -0.3333333432674408,
           -0.1111111119389534,
           0.1111111119389534,
           0.3333333432674408,
           0.5555555820465088,
           0.7777777910232544,
           1
          ]
         ],
         "y": [
          [
           0,
           0,
           0,
           0,
           0,
           0,
           0,
           0,
           0,
           0,
           0.1111111119389534,
           0.1111111119389534,
           0.1111111119389534,
           0.1111111119389534,
           0.1111111119389534,
           0.1111111119389534,
           0.1111111119389534,
           0.1111111119389534,
           0.1111111119389534,
           0.1111111119389534,
           0.2222222238779068,
           0.2222222238779068,
           0.2222222238779068,
           0.2222222238779068,
           0.2222222238779068,
           0.2222222238779068,
           0.2222222238779068,
           0.2222222238779068,
           0.2222222238779068,
           0.2222222238779068,
           0.3333333432674408,
           0.3333333432674408,
           0.3333333432674408,
           0.3333333432674408,
           0.3333333432674408,
           0.3333333432674408,
           0.3333333432674408,
           0.3333333432674408,
           0.3333333432674408,
           0.3333333432674408,
           0.4444444477558136,
           0.4444444477558136,
           0.4444444477558136,
           0.4444444477558136,
           0.4444444477558136,
           0.4444444477558136,
           0.4444444477558136,
           0.4444444477558136,
           0.4444444477558136,
           0.4444444477558136,
           0.5555555820465088,
           0.5555555820465088,
           0.5555555820465088,
           0.5555555820465088,
           0.5555555820465088,
           0.5555555820465088,
           0.5555555820465088,
           0.5555555820465088,
           0.5555555820465088,
           0.5555555820465088,
           0.6666666865348816,
           0.6666666865348816,
           0.6666666865348816,
           0.6666666865348816,
           0.6666666865348816,
           0.6666666865348816,
           0.6666666865348816,
           0.6666666865348816,
           0.6666666865348816,
           0.6666666865348816,
           0.7777777910232544,
           0.7777777910232544,
           0.7777777910232544,
           0.7777777910232544,
           0.7777777910232544,
           0.7777777910232544,
           0.7777777910232544,
           0.7777777910232544,
           0.7777777910232544,
           0.7777777910232544,
           0.8888888955116272,
           0.8888888955116272,
           0.8888888955116272,
           0.8888888955116272,
           0.8888888955116272,
           0.8888888955116272,
           0.8888888955116272,
           0.8888888955116272,
           0.8888888955116272,
           0.8888888955116272,
           1,
           1,
           1,
           1,
           1,
           1,
           1,
           1,
           1,
           1
          ]
         ],
         "z": [
          [
           -0.9997406005859375,
           -0.777464747428894,
           -0.5552974939346313,
           -0.33321070671081543,
           -0.11116504669189453,
           0.11088639497756958,
           0.33298778533935547,
           0.5551725625991821,
           0.7774595022201538,
           0.9998434782028198,
           -0.9936141967773438,
           -0.7726950645446777,
           -0.5519106388092041,
           -0.3312208652496338,
           -0.11057591438293457,
           0.11007809638977051,
           0.330793559551239,
           0.5516136884689331,
           0.7725692987442017,
           0.9936717748641968,
           -0.9752254486083984,
           -0.7583966255187988,
           -0.5417001247406006,
           -0.3251028060913086,
           -0.10856413841247559,
           0.107962965965271,
           0.3245251774787903,
           0.5411620140075684,
           0.7579084038734436,
           0.9747837781906128,
           -0.9447393417358398,
           -0.7346638441085815,
           -0.5247008800506592,
           -0.31483232975006104,
           -0.10503005981445312,
           0.10473811626434326,
           0.3145054578781128,
           0.5243053436279297,
           0.7341635227203369,
           0.944098711013794,
           -0.9025830030441284,
           -0.7018898725509644,
           -0.5012720823287964,
           -0.3007194995880127,
           -0.10021615028381348,
           0.10025715827941895,
           0.30071866512298584,
           0.5011857748031616,
           0.7016711235046387,
           0.9021782875061035,
           -0.8493117094039917,
           -0.6605422496795654,
           -0.47179925441741943,
           -0.2830721139907837,
           -0.09435033798217773,
           0.0943756103515625,
           0.2831106185913086,
           0.4718564748764038,
           0.6606056690216064,
           0.8493458032608032,
           -0.785494327545166,
           -0.6110039949417114,
           -0.4365130662918091,
           -0.2620002031326294,
           -0.0874490737915039,
           0.08714747428894043,
           0.261791467666626,
           0.4364742040634155,
           0.6111792325973511,
           0.7858818769454956,
           -0.7117953300476074,
           -0.5536676645278931,
           -0.3955826759338379,
           -0.23749518394470215,
           -0.07937180995941162,
           0.07881307601928711,
           0.23707222938537598,
           0.39540982246398926,
           0.5538183450698853,
           0.7122849225997925,
           -0.6292556524276733,
           -0.4892350435256958,
           -0.349409818649292,
           -0.20969903469085693,
           -0.0700300931930542,
           0.06966102123260498,
           0.209425687789917,
           0.34930717945098877,
           0.489337682723999,
           0.6295449733734131,
           -0.5395855903625488,
           -0.41902077198028564,
           -0.29892075061798096,
           -0.17915260791778564,
           -0.0595860481262207,
           0.05990254878997803,
           0.17943322658538818,
           0.2991154193878174,
           0.4190518856048584,
           0.5393397808074951
          ]
         ]
        }
       ],
       "layout": {
        "height": 800,
        "legend": {
         "font": {
          "size": 16
         },
         "x": -0.1,
         "y": 1
        },
        "scene": {
         "aspectmode": "cube",
         "xaxis": {
          "title": {
           "text": "x"
          }
         },
         "yaxis": {
          "title": {
           "text": "t"
          }
         },
         "zaxis": {
          "title": {
           "text": "u(t,x)"
          }
         }
        },
        "template": {
         "data": {
          "bar": [
           {
            "error_x": {
             "color": "#2a3f5f"
            },
            "error_y": {
             "color": "#2a3f5f"
            },
            "marker": {
             "line": {
              "color": "#E5ECF6",
              "width": 0.5
             },
             "pattern": {
              "fillmode": "overlay",
              "size": 10,
              "solidity": 0.2
             }
            },
            "type": "bar"
           }
          ],
          "barpolar": [
           {
            "marker": {
             "line": {
              "color": "#E5ECF6",
              "width": 0.5
             },
             "pattern": {
              "fillmode": "overlay",
              "size": 10,
              "solidity": 0.2
             }
            },
            "type": "barpolar"
           }
          ],
          "carpet": [
           {
            "aaxis": {
             "endlinecolor": "#2a3f5f",
             "gridcolor": "white",
             "linecolor": "white",
             "minorgridcolor": "white",
             "startlinecolor": "#2a3f5f"
            },
            "baxis": {
             "endlinecolor": "#2a3f5f",
             "gridcolor": "white",
             "linecolor": "white",
             "minorgridcolor": "white",
             "startlinecolor": "#2a3f5f"
            },
            "type": "carpet"
           }
          ],
          "choropleth": [
           {
            "colorbar": {
             "outlinewidth": 0,
             "ticks": ""
            },
            "type": "choropleth"
           }
          ],
          "contour": [
           {
            "colorbar": {
             "outlinewidth": 0,
             "ticks": ""
            },
            "colorscale": [
             [
              0,
              "#0d0887"
             ],
             [
              0.1111111111111111,
              "#46039f"
             ],
             [
              0.2222222222222222,
              "#7201a8"
             ],
             [
              0.3333333333333333,
              "#9c179e"
             ],
             [
              0.4444444444444444,
              "#bd3786"
             ],
             [
              0.5555555555555556,
              "#d8576b"
             ],
             [
              0.6666666666666666,
              "#ed7953"
             ],
             [
              0.7777777777777778,
              "#fb9f3a"
             ],
             [
              0.8888888888888888,
              "#fdca26"
             ],
             [
              1,
              "#f0f921"
             ]
            ],
            "type": "contour"
           }
          ],
          "contourcarpet": [
           {
            "colorbar": {
             "outlinewidth": 0,
             "ticks": ""
            },
            "type": "contourcarpet"
           }
          ],
          "heatmap": [
           {
            "colorbar": {
             "outlinewidth": 0,
             "ticks": ""
            },
            "colorscale": [
             [
              0,
              "#0d0887"
             ],
             [
              0.1111111111111111,
              "#46039f"
             ],
             [
              0.2222222222222222,
              "#7201a8"
             ],
             [
              0.3333333333333333,
              "#9c179e"
             ],
             [
              0.4444444444444444,
              "#bd3786"
             ],
             [
              0.5555555555555556,
              "#d8576b"
             ],
             [
              0.6666666666666666,
              "#ed7953"
             ],
             [
              0.7777777777777778,
              "#fb9f3a"
             ],
             [
              0.8888888888888888,
              "#fdca26"
             ],
             [
              1,
              "#f0f921"
             ]
            ],
            "type": "heatmap"
           }
          ],
          "heatmapgl": [
           {
            "colorbar": {
             "outlinewidth": 0,
             "ticks": ""
            },
            "colorscale": [
             [
              0,
              "#0d0887"
             ],
             [
              0.1111111111111111,
              "#46039f"
             ],
             [
              0.2222222222222222,
              "#7201a8"
             ],
             [
              0.3333333333333333,
              "#9c179e"
             ],
             [
              0.4444444444444444,
              "#bd3786"
             ],
             [
              0.5555555555555556,
              "#d8576b"
             ],
             [
              0.6666666666666666,
              "#ed7953"
             ],
             [
              0.7777777777777778,
              "#fb9f3a"
             ],
             [
              0.8888888888888888,
              "#fdca26"
             ],
             [
              1,
              "#f0f921"
             ]
            ],
            "type": "heatmapgl"
           }
          ],
          "histogram": [
           {
            "marker": {
             "pattern": {
              "fillmode": "overlay",
              "size": 10,
              "solidity": 0.2
             }
            },
            "type": "histogram"
           }
          ],
          "histogram2d": [
           {
            "colorbar": {
             "outlinewidth": 0,
             "ticks": ""
            },
            "colorscale": [
             [
              0,
              "#0d0887"
             ],
             [
              0.1111111111111111,
              "#46039f"
             ],
             [
              0.2222222222222222,
              "#7201a8"
             ],
             [
              0.3333333333333333,
              "#9c179e"
             ],
             [
              0.4444444444444444,
              "#bd3786"
             ],
             [
              0.5555555555555556,
              "#d8576b"
             ],
             [
              0.6666666666666666,
              "#ed7953"
             ],
             [
              0.7777777777777778,
              "#fb9f3a"
             ],
             [
              0.8888888888888888,
              "#fdca26"
             ],
             [
              1,
              "#f0f921"
             ]
            ],
            "type": "histogram2d"
           }
          ],
          "histogram2dcontour": [
           {
            "colorbar": {
             "outlinewidth": 0,
             "ticks": ""
            },
            "colorscale": [
             [
              0,
              "#0d0887"
             ],
             [
              0.1111111111111111,
              "#46039f"
             ],
             [
              0.2222222222222222,
              "#7201a8"
             ],
             [
              0.3333333333333333,
              "#9c179e"
             ],
             [
              0.4444444444444444,
              "#bd3786"
             ],
             [
              0.5555555555555556,
              "#d8576b"
             ],
             [
              0.6666666666666666,
              "#ed7953"
             ],
             [
              0.7777777777777778,
              "#fb9f3a"
             ],
             [
              0.8888888888888888,
              "#fdca26"
             ],
             [
              1,
              "#f0f921"
             ]
            ],
            "type": "histogram2dcontour"
           }
          ],
          "mesh3d": [
           {
            "colorbar": {
             "outlinewidth": 0,
             "ticks": ""
            },
            "type": "mesh3d"
           }
          ],
          "parcoords": [
           {
            "line": {
             "colorbar": {
              "outlinewidth": 0,
              "ticks": ""
             }
            },
            "type": "parcoords"
           }
          ],
          "pie": [
           {
            "automargin": true,
            "type": "pie"
           }
          ],
          "scatter": [
           {
            "fillpattern": {
             "fillmode": "overlay",
             "size": 10,
             "solidity": 0.2
            },
            "type": "scatter"
           }
          ],
          "scatter3d": [
           {
            "line": {
             "colorbar": {
              "outlinewidth": 0,
              "ticks": ""
             }
            },
            "marker": {
             "colorbar": {
              "outlinewidth": 0,
              "ticks": ""
             }
            },
            "type": "scatter3d"
           }
          ],
          "scattercarpet": [
           {
            "marker": {
             "colorbar": {
              "outlinewidth": 0,
              "ticks": ""
             }
            },
            "type": "scattercarpet"
           }
          ],
          "scattergeo": [
           {
            "marker": {
             "colorbar": {
              "outlinewidth": 0,
              "ticks": ""
             }
            },
            "type": "scattergeo"
           }
          ],
          "scattergl": [
           {
            "marker": {
             "colorbar": {
              "outlinewidth": 0,
              "ticks": ""
             }
            },
            "type": "scattergl"
           }
          ],
          "scattermapbox": [
           {
            "marker": {
             "colorbar": {
              "outlinewidth": 0,
              "ticks": ""
             }
            },
            "type": "scattermapbox"
           }
          ],
          "scatterpolar": [
           {
            "marker": {
             "colorbar": {
              "outlinewidth": 0,
              "ticks": ""
             }
            },
            "type": "scatterpolar"
           }
          ],
          "scatterpolargl": [
           {
            "marker": {
             "colorbar": {
              "outlinewidth": 0,
              "ticks": ""
             }
            },
            "type": "scatterpolargl"
           }
          ],
          "scatterternary": [
           {
            "marker": {
             "colorbar": {
              "outlinewidth": 0,
              "ticks": ""
             }
            },
            "type": "scatterternary"
           }
          ],
          "surface": [
           {
            "colorbar": {
             "outlinewidth": 0,
             "ticks": ""
            },
            "colorscale": [
             [
              0,
              "#0d0887"
             ],
             [
              0.1111111111111111,
              "#46039f"
             ],
             [
              0.2222222222222222,
              "#7201a8"
             ],
             [
              0.3333333333333333,
              "#9c179e"
             ],
             [
              0.4444444444444444,
              "#bd3786"
             ],
             [
              0.5555555555555556,
              "#d8576b"
             ],
             [
              0.6666666666666666,
              "#ed7953"
             ],
             [
              0.7777777777777778,
              "#fb9f3a"
             ],
             [
              0.8888888888888888,
              "#fdca26"
             ],
             [
              1,
              "#f0f921"
             ]
            ],
            "type": "surface"
           }
          ],
          "table": [
           {
            "cells": {
             "fill": {
              "color": "#EBF0F8"
             },
             "line": {
              "color": "white"
             }
            },
            "header": {
             "fill": {
              "color": "#C8D4E3"
             },
             "line": {
              "color": "white"
             }
            },
            "type": "table"
           }
          ]
         },
         "layout": {
          "annotationdefaults": {
           "arrowcolor": "#2a3f5f",
           "arrowhead": 0,
           "arrowwidth": 1
          },
          "autotypenumbers": "strict",
          "coloraxis": {
           "colorbar": {
            "outlinewidth": 0,
            "ticks": ""
           }
          },
          "colorscale": {
           "diverging": [
            [
             0,
             "#8e0152"
            ],
            [
             0.1,
             "#c51b7d"
            ],
            [
             0.2,
             "#de77ae"
            ],
            [
             0.3,
             "#f1b6da"
            ],
            [
             0.4,
             "#fde0ef"
            ],
            [
             0.5,
             "#f7f7f7"
            ],
            [
             0.6,
             "#e6f5d0"
            ],
            [
             0.7,
             "#b8e186"
            ],
            [
             0.8,
             "#7fbc41"
            ],
            [
             0.9,
             "#4d9221"
            ],
            [
             1,
             "#276419"
            ]
           ],
           "sequential": [
            [
             0,
             "#0d0887"
            ],
            [
             0.1111111111111111,
             "#46039f"
            ],
            [
             0.2222222222222222,
             "#7201a8"
            ],
            [
             0.3333333333333333,
             "#9c179e"
            ],
            [
             0.4444444444444444,
             "#bd3786"
            ],
            [
             0.5555555555555556,
             "#d8576b"
            ],
            [
             0.6666666666666666,
             "#ed7953"
            ],
            [
             0.7777777777777778,
             "#fb9f3a"
            ],
            [
             0.8888888888888888,
             "#fdca26"
            ],
            [
             1,
             "#f0f921"
            ]
           ],
           "sequentialminus": [
            [
             0,
             "#0d0887"
            ],
            [
             0.1111111111111111,
             "#46039f"
            ],
            [
             0.2222222222222222,
             "#7201a8"
            ],
            [
             0.3333333333333333,
             "#9c179e"
            ],
            [
             0.4444444444444444,
             "#bd3786"
            ],
            [
             0.5555555555555556,
             "#d8576b"
            ],
            [
             0.6666666666666666,
             "#ed7953"
            ],
            [
             0.7777777777777778,
             "#fb9f3a"
            ],
            [
             0.8888888888888888,
             "#fdca26"
            ],
            [
             1,
             "#f0f921"
            ]
           ]
          },
          "colorway": [
           "#636efa",
           "#EF553B",
           "#00cc96",
           "#ab63fa",
           "#FFA15A",
           "#19d3f3",
           "#FF6692",
           "#B6E880",
           "#FF97FF",
           "#FECB52"
          ],
          "font": {
           "color": "#2a3f5f"
          },
          "geo": {
           "bgcolor": "white",
           "lakecolor": "white",
           "landcolor": "#E5ECF6",
           "showlakes": true,
           "showland": true,
           "subunitcolor": "white"
          },
          "hoverlabel": {
           "align": "left"
          },
          "hovermode": "closest",
          "mapbox": {
           "style": "light"
          },
          "paper_bgcolor": "white",
          "plot_bgcolor": "#E5ECF6",
          "polar": {
           "angularaxis": {
            "gridcolor": "white",
            "linecolor": "white",
            "ticks": ""
           },
           "bgcolor": "#E5ECF6",
           "radialaxis": {
            "gridcolor": "white",
            "linecolor": "white",
            "ticks": ""
           }
          },
          "scene": {
           "xaxis": {
            "backgroundcolor": "#E5ECF6",
            "gridcolor": "white",
            "gridwidth": 2,
            "linecolor": "white",
            "showbackground": true,
            "ticks": "",
            "zerolinecolor": "white"
           },
           "yaxis": {
            "backgroundcolor": "#E5ECF6",
            "gridcolor": "white",
            "gridwidth": 2,
            "linecolor": "white",
            "showbackground": true,
            "ticks": "",
            "zerolinecolor": "white"
           },
           "zaxis": {
            "backgroundcolor": "#E5ECF6",
            "gridcolor": "white",
            "gridwidth": 2,
            "linecolor": "white",
            "showbackground": true,
            "ticks": "",
            "zerolinecolor": "white"
           }
          },
          "shapedefaults": {
           "line": {
            "color": "#2a3f5f"
           }
          },
          "ternary": {
           "aaxis": {
            "gridcolor": "white",
            "linecolor": "white",
            "ticks": ""
           },
           "baxis": {
            "gridcolor": "white",
            "linecolor": "white",
            "ticks": ""
           },
           "bgcolor": "#E5ECF6",
           "caxis": {
            "gridcolor": "white",
            "linecolor": "white",
            "ticks": ""
           }
          },
          "title": {
           "x": 0.05
          },
          "xaxis": {
           "automargin": true,
           "gridcolor": "white",
           "linecolor": "white",
           "ticks": "",
           "title": {
            "standoff": 15
           },
           "zerolinecolor": "white",
           "zerolinewidth": 2
          },
          "yaxis": {
           "automargin": true,
           "gridcolor": "white",
           "linecolor": "white",
           "ticks": "",
           "title": {
            "standoff": 15
           },
           "zerolinecolor": "white",
           "zerolinewidth": 2
          }
         }
        },
        "width": 1000
       }
      }
     },
     "metadata": {},
     "output_type": "display_data"
    }
   ],
   "source": [
    "# Entrenar el modelo\n",
    "pinn_inf_model.train(\n",
    "    data=data,\n",
    "    diff_equation=diff_equation,\n",
    "    constant_values=diff_equation.constants,\n",
    "    initial_conditions=initial_conditions,\n",
    "    lr=lr,\n",
    "    n_epochs=n_epochs,\n",
    "    optimizer_name=optimizer,\n",
    "    lambda_pin=lambda_pin,\n",
    "    lambda_ic=lambda_ic,\n",
    "    lambda_bc=lambda_bc,\n",
    ")\n",
    "\n",
    "for constant in pinn_inf_model.params:\n",
    "    print(constant, getattr(pinn_inf_model, constant).item())\n",
    "\n",
    "\n",
    "# Plot the results\n",
    "if diff_equation.dy:\n",
    "    pinn_inf_model.plot_2d(data)\n",
    "elif diff_equation.dx and not diff_equation.dy:\n",
    "    pinn_inf_model.plot_solution(data)\n",
    "elif not diff_equation.dx:\n",
    "    pinn_inf_model.plot(data)\n",
    "\n"
   ]
  },
  {
   "cell_type": "markdown",
   "metadata": {},
   "source": [
    "## 2D visualization"
   ]
  },
  {
   "cell_type": "code",
   "execution_count": 191,
   "metadata": {},
   "outputs": [],
   "source": [
    "# train_t = np.linspace(0, T, max_iter_time)\n",
    "\n",
    "# u_pred = pinn_inf_model(data[2]).reshape(len(train_t), plate_length, plate_length).detach().numpy()\n",
    "# u_true = data[3].reshape(len(train_t), plate_length, plate_length).detach().numpy()\n",
    "# t = -1\n",
    "\n",
    "# fig, axs = plt.subplots(1, 2, figsize=(12, 6))\n",
    "# ax1, ax2 = axs\n",
    "\n",
    "# im1 = ax1.imshow(u_pred[t, :, :], cmap=plt.cm.jet, vmin=0, vmax=1)\n",
    "# im2 = ax2.imshow(u_true[t, :, :], cmap=plt.cm.jet, vmin=0, vmax=1)\n",
    "\n",
    "# # Add colorbars to both subplots\n",
    "# fig.colorbar(im1, ax=ax1)\n",
    "# fig.colorbar(im2, ax=ax2)\n",
    "\n",
    "# # Set initial titles and labels\n",
    "# ax1.set_title(f'Predicted Temperature at t = {0.1 * (t % max_iter_time)}')\n",
    "# ax1.set_xlabel('x')\n",
    "# ax1.set_ylabel('y')\n",
    "\n",
    "# ax2.set_title(f'True Temperature at t = {0.1 * (t % max_iter_time)}')\n",
    "# ax2.set_xlabel('x')\n",
    "# ax2.set_ylabel('y')\n",
    "# plt.show()"
   ]
  },
  {
   "cell_type": "markdown",
   "metadata": {},
   "source": [
    "# Functional Inference"
   ]
  },
  {
   "cell_type": "markdown",
   "metadata": {},
   "source": [
    "Check if the function has been learnt"
   ]
  },
  {
   "cell_type": "code",
   "execution_count": 192,
   "metadata": {},
   "outputs": [],
   "source": [
    "if func_to_optimize:\n",
    "    temps = pinn_inf_model(data[2])\n",
    "    data[2].requires_grad = True\n",
    "    P_stack_dT = diff_equation()(data[2], temps).detach().numpy()\n",
    "\n",
    "    if not diff_equation.dx:\n",
    "        plt.plot(data[2].detach().numpy(), P_stack_dT, 'g--', label='p_stack - dT')\n",
    "        plt.plot(data[2].detach().numpy(), [0 for _ in range(len(data[2].detach().numpy()))], 'r--', label='0')\n",
    "        plt.legend()\n",
    "        plt.show()\n",
    "    else:\n",
    "        # Crear Scatter3d para datos de entrenamiento y prueba\n",
    "        num_test_divisions = int(np.sqrt(len(P_stack_dT)))\n",
    "        t_test = np.linspace(0, data[2][-1, 0].item(), num_test_divisions)\n",
    "        x_test = np.linspace(0, data[2][-1, 1].item(), num_test_divisions)\n",
    "        u_test = P_stack_dT.reshape((num_test_divisions, num_test_divisions))\n",
    "        scatter_test = go.Scatter3d(\n",
    "            x=data[2][:, 1].detach().numpy(),\n",
    "            y=data[2][:, 0].detach().numpy(),\n",
    "            z=P_stack_dT[:, 0],\n",
    "            mode=\"markers\",\n",
    "            marker=dict(size=4, opacity=0.5, color=\"blue\"),\n",
    "            name=\"test Data\",\n",
    "        )\n",
    "\n",
    "        y_pred = P_stack_dT\n",
    "        u_test = y_pred.reshape((num_test_divisions, num_test_divisions))\n",
    "        scatter_pred = go.Scatter3d(\n",
    "            x=data[2][:, 1].detach().numpy(),\n",
    "            y=data[2][:, 0].detach().numpy(),\n",
    "            z=y_pred[:, 0],\n",
    "            mode=\"markers\",\n",
    "            marker=dict(size=2, opacity=0.35, color=\"red\"),\n",
    "            name=\"Test Data\",\n",
    "        )\n",
    "\n",
    "        # Crear la superficie para la función subyacente\n",
    "        surface_true = go.Surface(\n",
    "            x=t_test,\n",
    "            y=x_test,\n",
    "            z=u_test,\n",
    "            opacity=0.5,\n",
    "            colorscale=\"Blues\",\n",
    "            showscale=False,\n",
    "            name=\"True Function\",\n",
    "        )\n",
    "        surface_pred = go.Surface(\n",
    "            x=t_test,\n",
    "            y=x_test,\n",
    "            z=u_test,\n",
    "            opacity=0.5,\n",
    "            colorscale=\"Blues\",\n",
    "            showscale=False,\n",
    "            name=\"True Function\",\n",
    "        )\n",
    "\n",
    "        # Crear el gráfico\n",
    "        fig = go.Figure(data=[scatter_test, scatter_pred, surface_true, surface_pred])\n",
    "        fig.update_layout(\n",
    "            scene=dict(\n",
    "                xaxis_title=\"t\",\n",
    "                yaxis_title=\"x\",\n",
    "                zaxis_title=\"u(t,x)\",\n",
    "                aspectmode=\"cube\",\n",
    "            ),\n",
    "            width=1000,  # Cambia el ancho de la figura\n",
    "            height=800,\n",
    "            legend=dict(x=-0.1, y=1.0, font=dict(size=16)),\n",
    "        )  # Ajusta el tamaño del texto de la leyenda\n",
    "        fig.show()"
   ]
  }
 ],
 "metadata": {
  "kernelspec": {
   "display_name": "Python 3",
   "language": "python",
   "name": "python3"
  },
  "language_info": {
   "codemirror_mode": {
    "name": "ipython",
    "version": 3
   },
   "file_extension": ".py",
   "mimetype": "text/x-python",
   "name": "python",
   "nbconvert_exporter": "python",
   "pygments_lexer": "ipython3",
   "version": "3.11.6"
  }
 },
 "nbformat": 4,
 "nbformat_minor": 2
}
